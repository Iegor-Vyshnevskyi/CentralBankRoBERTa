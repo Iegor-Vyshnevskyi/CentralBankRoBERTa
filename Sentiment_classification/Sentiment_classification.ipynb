{
  "cells": [
    {
      "cell_type": "markdown",
      "metadata": {
        "id": "BoKqfOz-w3po"
      },
      "source": [
        "## Fine-tuning Large Language Models for Sentiment Analysis of Central Bank Speeches\n",
        "[![Portfolio](https://img.shields.io/badge/Moritz_Pfeifer-CentralBankBERTa-blue?logo=GitHub)](https://github.com/Moritz-Pfeifer/CentralBankBERTa)"
      ]
    },
    {
      "cell_type": "markdown",
      "metadata": {
        "id": "D6fRxYfGySWE"
      },
      "source": [
        "# A - Introduction\n",
        "\n",
        "Today, central bank communications are considered an important monetary policy tool. Through communications, central banks have been said to guide the economy. Communications are supposed to help the central bank better fulfill monetary policy goals such as price stability, stable interest rates or employment. A bourgeoning literature has explored the use of natural language processing (NLP) to analyze central bank communications.\n",
        "\n",
        "Most, if not all, of these studies rely on NLP algorithms that assume a bag-of-words structure. That is, the algorithms ignore context and instead analyze text as a collection of individual words treated independently without regard for grammar or word order.\n",
        "\n",
        "More recently, research in computational linguistics has introduced deep-learning-based NLP algorithms often referred to as large language models (LLMs) due to their large number of parameters (up to billions). These algorithms learn semantic and syntactic relations among words from a large volume of texts, which allows them to consider context. Using a sample of pre-labeled sentences from the Federal Reserve Bank, the aim of this research is to test whether state-of-the-art LLMs outperform other machine learning algorithms such as naïve Bayes, Support Vector Machines or random forest in sentiment classification."
      ]
    },
    {
      "cell_type": "markdown",
      "metadata": {
        "id": "3hFeD6GXyZ6c"
      },
      "source": [
        "# B - Setup"
      ]
    },
    {
      "cell_type": "markdown",
      "metadata": {
        "id": "zYV2gzo_1AXf"
      },
      "source": [
        "## 1. Load Essential Libraries"
      ]
    },
    {
      "cell_type": "code",
      "execution_count": null,
      "metadata": {
        "id": "oSjhXyl7q4AE"
      },
      "outputs": [],
      "source": [
        "import os\n",
        "import re\n",
        "import glob\n",
        "from tqdm import tqdm\n",
        "import numpy as np\n",
        "import pandas as pd\n",
        "import matplotlib.pyplot as plt\n",
        "import seaborn as sns\n",
        "\n",
        "%matplotlib inline"
      ]
    },
    {
      "cell_type": "markdown",
      "metadata": {
        "id": "pLWZAXyLvGSq"
      },
      "source": [
        "## 2. Upload Datasets"
      ]
    },
    {
      "cell_type": "markdown",
      "metadata": {
        "id": "wnTFMbNNq-GU"
      },
      "source": [
        "The dataset contains 6683 sentences of Fed speeches from 1949-2022 pre-classified by four audiences: 1) public, 2) firms, 3) banks and 4) the government. The script for the audience classification can be found [here](www.insertlink.com). The task is to attribute a sentiment to each sentence."
      ]
    },
    {
      "cell_type": "code",
      "execution_count": null,
      "metadata": {
        "id": "g5HZF0FMPpvO",
        "colab": {
          "base_uri": "https://localhost:8080/"
        },
        "outputId": "8ce7751f-2ebc-40fc-f2c7-226e33b283c6"
      },
      "outputs": [
        {
          "output_type": "stream",
          "name": "stdout",
          "text": [
            "Drive already mounted at /content/drive; to attempt to forcibly remount, call drive.mount(\"/content/drive\", force_remount=True).\n"
          ]
        }
      ],
      "source": [
        "try:\n",
        "    from google.colab import drive\n",
        "    drive.mount('/content/drive')\n",
        "except:\n",
        "    pass"
      ]
    },
    {
      "cell_type": "code",
      "source": [
        "path = os.getcwd()+'/drive/MyDrive/CentralBankBERTa/Sentiment_classification'\n",
        "path"
      ],
      "metadata": {
        "colab": {
          "base_uri": "https://localhost:8080/",
          "height": 35
        },
        "id": "XC2EMJiKEoru",
        "outputId": "e4ee2063-2a92-400d-8577-b9a6109aa5d5"
      },
      "execution_count": null,
      "outputs": [
        {
          "output_type": "execute_result",
          "data": {
            "text/plain": [
              "'/content/drive/MyDrive/CentralBankBERTa/Sentiment_classification'"
            ],
            "application/vnd.google.colaboratory.intrinsic+json": {
              "type": "string"
            }
          },
          "metadata": {},
          "execution_count": 17
        }
      ]
    },
    {
      "cell_type": "markdown",
      "metadata": {
        "id": "4pz8ixg81svY"
      },
      "source": [
        "### 2.1. Load Train Data"
      ]
    },
    {
      "cell_type": "markdown",
      "source": [
        "#### FED\n",
        "The dataset contains 6683 sentences of Fed speeches from 1949-2022 pre-classified by four audiences: 1) public, 2) firms, 3) banks and 4) the government. The script for the audience classification can be found [here](www.insertlink.com). The task is to attribute a sentiment to each sentence."
      ],
      "metadata": {
        "id": "d6AgQXVhE8Oe"
      }
    },
    {
      "cell_type": "code",
      "source": [
        "data_train_FED = pd.read_csv(path+'/data_input/FED_prelabelled_sent.csv')\n",
        "data_train_FED = data_train_FED.drop(['audience'], axis=1)\n",
        "data_train_FED.info()"
      ],
      "metadata": {
        "colab": {
          "base_uri": "https://localhost:8080/"
        },
        "id": "bhKHZFqcDDHA",
        "outputId": "464c0709-72d2-44e0-acef-037c2392b454"
      },
      "execution_count": null,
      "outputs": [
        {
          "output_type": "stream",
          "name": "stdout",
          "text": [
            "<class 'pandas.core.frame.DataFrame'>\n",
            "RangeIndex: 6683 entries, 0 to 6682\n",
            "Data columns (total 2 columns):\n",
            " #   Column     Non-Null Count  Dtype \n",
            "---  ------     --------------  ----- \n",
            " 0   text       6683 non-null   object\n",
            " 1   sentiment  6683 non-null   int64 \n",
            "dtypes: int64(1), object(1)\n",
            "memory usage: 104.5+ KB\n"
          ]
        }
      ]
    },
    {
      "cell_type": "markdown",
      "source": [
        "#### ECB\n",
        "\n",
        "The dataset contains an additional 2563 meta-labels generated from the RoBERTa model on the ECB dataset with an aggregated threshold of 87%."
      ],
      "metadata": {
        "id": "Y7KmTP93FpQX"
      }
    },
    {
      "cell_type": "code",
      "source": [
        "data_train_ECB = pd.read_csv(path+'/data_input/ECB_prelabelled_sent.csv')\n",
        "data_train_ECB.info()"
      ],
      "metadata": {
        "colab": {
          "base_uri": "https://localhost:8080/"
        },
        "id": "7igvbMLjFTlQ",
        "outputId": "e0de973b-6cff-4b9c-8e55-2d77eaff903d"
      },
      "execution_count": null,
      "outputs": [
        {
          "output_type": "stream",
          "name": "stdout",
          "text": [
            "<class 'pandas.core.frame.DataFrame'>\n",
            "RangeIndex: 2563 entries, 0 to 2562\n",
            "Data columns (total 2 columns):\n",
            " #   Column     Non-Null Count  Dtype \n",
            "---  ------     --------------  ----- \n",
            " 0   text       2563 non-null   object\n",
            " 1   sentiment  2563 non-null   int64 \n",
            "dtypes: int64(1), object(1)\n",
            "memory usage: 40.2+ KB\n"
          ]
        }
      ]
    },
    {
      "cell_type": "markdown",
      "source": [
        "#### BIS\n",
        "\n",
        "The dataset contains an additional 4212 meta-labels generated from the RoBERTa model on the BIS dataset with an aggregated threshold of 87%."
      ],
      "metadata": {
        "id": "qlrecE11GFff"
      }
    },
    {
      "cell_type": "code",
      "source": [
        "data_train_BIS = pd.read_csv(path+'/data_input/BIS_prelabelled_sent.csv')\n",
        "data_train_BIS.info()"
      ],
      "metadata": {
        "colab": {
          "base_uri": "https://localhost:8080/"
        },
        "id": "oX79-K6nGFAj",
        "outputId": "a9074750-369c-4cb0-fe76-ea9ab2fa7856"
      },
      "execution_count": null,
      "outputs": [
        {
          "output_type": "stream",
          "name": "stdout",
          "text": [
            "<class 'pandas.core.frame.DataFrame'>\n",
            "RangeIndex: 4212 entries, 0 to 4211\n",
            "Data columns (total 2 columns):\n",
            " #   Column     Non-Null Count  Dtype \n",
            "---  ------     --------------  ----- \n",
            " 0   text       4212 non-null   object\n",
            " 1   sentiment  4212 non-null   int64 \n",
            "dtypes: int64(1), object(1)\n",
            "memory usage: 65.9+ KB\n"
          ]
        }
      ]
    },
    {
      "cell_type": "code",
      "source": [
        "plt.figure(figsize=(5, 4))\n",
        "width = .2\n",
        "sentiment = ('Positive', 'Negative')\n",
        "ax1 = data_train_FED['sentiment'].value_counts().sort_index(ascending=False).plot(kind='bar', color='navy', position=-.5, width = width, label=\"FED\")\n",
        "ax2 = data_train_ECB['sentiment'].value_counts().sort_index(ascending=False).plot(kind='bar', color='skyblue', position=1.5, width = width, label='ECB')\n",
        "ax3 = data_train_BIS['sentiment'].value_counts().sort_index(ascending=False).plot(kind='bar', color='steelblue', position=0.5, width = width, label='BIS')\n",
        "plt.xticks(range(0,2), sentiment, rotation = 0, fontsize=15)\n",
        "plt.ylabel(\"Labeled Sentences\", fontsize=15)\n",
        "plt.xlim((-0.5, 1.5))\n",
        "plt.legend(fontsize=12)\n",
        "plt.tight_layout();\n",
        "plt.savefig(path+'/Sentiment_data.png', dpi=300)\n",
        "plt.show()"
      ],
      "metadata": {
        "colab": {
          "base_uri": "https://localhost:8080/",
          "height": 407
        },
        "id": "0n1X5eMXHkoz",
        "outputId": "78420cc2-a415-4a26-e494-722939af1762"
      },
      "execution_count": null,
      "outputs": [
        {
          "output_type": "display_data",
          "data": {
            "text/plain": [
              "<Figure size 500x400 with 1 Axes>"
            ],
            "image/png": "[encoded data removed]"
          },
          "metadata": {}
        }
      ]
    },
    {
      "cell_type": "markdown",
      "source": [
        "### 2.2. Merge all training data together\n",
        "We create a seperate dataset which concatenates all the four training datasets."
      ],
      "metadata": {
        "id": "COG1YAIfYTOz"
      }
    },
    {
      "cell_type": "code",
      "source": [
        "data_train = pd.concat([data_train_FED, data_train_ECB, data_train_BIS])\n",
        "print(data_train.shape)\n",
        "print(data_train['sentiment'].value_counts())"
      ],
      "metadata": {
        "colab": {
          "base_uri": "https://localhost:8080/"
        },
        "id": "YSpht1aLYSfr",
        "outputId": "47ba6247-3ce3-4112-d34a-40ea2f3b3c73"
      },
      "execution_count": null,
      "outputs": [
        {
          "output_type": "stream",
          "name": "stdout",
          "text": [
            "(13458, 2)\n",
            "0    7730\n",
            "1    5728\n",
            "Name: sentiment, dtype: int64\n"
          ]
        }
      ]
    },
    {
      "cell_type": "markdown",
      "source": [
        "## Split Data into Train and Test Sets"
      ],
      "metadata": {
        "id": "992R0bqADkjq"
      }
    },
    {
      "cell_type": "markdown",
      "metadata": {
        "id": "mfoqrytCvixZ"
      },
      "source": [
        "The training data set is split into two sets: a train set with 80% of the data and a validation set with 20% of the data."
      ]
    },
    {
      "cell_type": "code",
      "execution_count": null,
      "metadata": {
        "id": "yF82IVYptoPf",
        "colab": {
          "base_uri": "https://localhost:8080/"
        },
        "outputId": "46a86c83-9e6f-483b-99ac-b37c4e1b9e07"
      },
      "outputs": [
        {
          "output_type": "stream",
          "name": "stdout",
          "text": [
            "Data is split into 80% train and 20% validation sets.\n",
            "There are 10766 training labels\n",
            "There are 2692 validation labels\n"
          ]
        }
      ],
      "source": [
        "from sklearn.model_selection import train_test_split\n",
        "\n",
        "X = data_train.text.values\n",
        "y = data_train.sentiment.values\n",
        "\n",
        "# Set complete_data to True, if you don't want to split data\n",
        "\n",
        "complete_data = False\n",
        "\n",
        "if complete_data is False:\n",
        "    X_train, X_val, y_train, y_val = train_test_split(X, y, test_size=0.2, random_state=42, stratify=y)\n",
        "    print('Data is split into 80% train and 20% validation sets.')\n",
        "else:\n",
        "    X_train, X_val, y_train, y_val = X, X, y, y\n",
        "    print('Data is not split.')\n",
        "\n",
        "lengthXtrain = len(X_train)\n",
        "lengthXval = len(X_val)\n",
        "print('There are ' + str(lengthXtrain) + ' training labels')\n",
        "print('There are ' + str(lengthXval) + ' validation labels')"
      ]
    },
    {
      "cell_type": "markdown",
      "metadata": {
        "id": "vNvEq0aytE7D"
      },
      "source": [
        "## 4. Set up GPU for training"
      ]
    },
    {
      "cell_type": "markdown",
      "metadata": {
        "id": "Cy9nYd06aAXZ"
      },
      "source": [
        "Google Colab offers free GPUs and TPUs. Since we'll be training a large neural network it's best to utilize these features.\n",
        "\n",
        "A GPU can be added by going to the menu and selecting:\n",
        "\n",
        "`Runtime -> Change runtime type -> Hardware accelerator: GPU`\n",
        "\n",
        "Then we need to run the following cell to specify the GPU as the device."
      ]
    },
    {
      "cell_type": "code",
      "execution_count": null,
      "metadata": {
        "colab": {
          "base_uri": "https://localhost:8080/"
        },
        "id": "ATN-ZU9JaC1s",
        "outputId": "f3e74237-6c92-4058-ec0e-e7b89281ecaa"
      },
      "outputs": [
        {
          "output_type": "stream",
          "name": "stdout",
          "text": [
            "There are 1 GPU(s) available.\n",
            "Device name: NVIDIA A100-SXM4-40GB\n"
          ]
        }
      ],
      "source": [
        "import torch\n",
        "\n",
        "if torch.cuda.is_available():\n",
        "    device = torch.device('cuda')\n",
        "    print(f'There are {torch.cuda.device_count()} GPU(s) available.')\n",
        "    print('Device name:', torch.cuda.get_device_name(0))\n",
        "\n",
        "else:\n",
        "    print('No GPU available, using the CPU instead.')\n",
        "    device = torch.device('cpu')"
      ]
    },
    {
      "cell_type": "markdown",
      "metadata": {
        "id": "AayEqo5lbuTk"
      },
      "source": [
        "# C - TF-IDF + Naive Bayes Classifier"
      ]
    },
    {
      "cell_type": "markdown",
      "metadata": {
        "id": "-Me356O9b36i"
      },
      "source": [
        "Following, the [Scikit-learn's guide](https://scikit-learn.org/stable/tutorial/machine_learning_map/index.html), here we first use a basic TF-IDF to vectorize the text data. In a second step we will use the Naive Bayes model as our classifier."
      ]
    },
    {
      "cell_type": "markdown",
      "metadata": {
        "id": "mXrJjF9veOcS"
      },
      "source": [
        "## 1. TF-IDF Vectorizer"
      ]
    },
    {
      "cell_type": "markdown",
      "metadata": {
        "id": "rVdUmGHRePq8"
      },
      "source": [
        "In information retrieval, **TF-IDF**, short for **term frequency–inverse document frequency**, is a numerical statistic that is intended to reflect how important a word is to a document in a collection or corpus. We will use TF-IDF to vectorize our text data before feeding the data to machine learning algorithms."
      ]
    },
    {
      "cell_type": "code",
      "execution_count": null,
      "metadata": {
        "colab": {
          "base_uri": "https://localhost:8080/"
        },
        "id": "gTdIMbhlbtro",
        "outputId": "a7eb6a50-df76-4c4b-eff0-6e5bfda4ceb4"
      },
      "outputs": [
        {
          "output_type": "stream",
          "name": "stdout",
          "text": [
            "CPU times: user 2.1 s, sys: 80.2 ms, total: 2.18 s\n",
            "Wall time: 2.17 s\n"
          ]
        }
      ],
      "source": [
        "%%time\n",
        "from sklearn.feature_extraction.text import TfidfVectorizer\n",
        "\n",
        "# Preprocess text\n",
        "X_train = np.array([text for text in X_train])\n",
        "X_val = np.array([text for text in X_val])\n",
        "\n",
        "# Calculate TF-IDF\n",
        "tf_idf = TfidfVectorizer(ngram_range=(1, 3),\n",
        "                         binary=True,\n",
        "                         smooth_idf=False)\n",
        "X_train_tfidf = tf_idf.fit_transform(X_train)\n",
        "X_val_tfidf = tf_idf.transform(X_val)"
      ]
    },
    {
      "cell_type": "markdown",
      "source": [],
      "metadata": {
        "id": "aPXTgJUguMhJ"
      }
    },
    {
      "cell_type": "markdown",
      "metadata": {
        "id": "YQAQYfoMkOT_"
      },
      "source": [
        "## 2. Train Naive Bayes Classifier"
      ]
    },
    {
      "cell_type": "markdown",
      "metadata": {
        "id": "O0FP-KpdkZgy"
      },
      "source": [
        "### 2.1. Hyperparameter Tuning"
      ]
    },
    {
      "cell_type": "markdown",
      "metadata": {
        "id": "notlHsJTk__b"
      },
      "source": [
        "In order to set hyperparameters for the model, we use   cross-validation and AUC score. The average AUC score from cross-validation will be called via the `get_auc_CV` function."
      ]
    },
    {
      "cell_type": "code",
      "execution_count": null,
      "metadata": {
        "id": "Q-7SbQDJk-xS"
      },
      "outputs": [],
      "source": [
        "from sklearn.model_selection import StratifiedKFold, cross_val_score\n",
        "\n",
        "def get_auc_CV(model):\n",
        "    \"\"\"\n",
        "    Return the average AUC score from cross-validation.\n",
        "    \"\"\"\n",
        "    # Set KFold to shuffle data before the split\n",
        "    kf = StratifiedKFold(5, shuffle=True, random_state=1)\n",
        "\n",
        "    # Get AUC scores\n",
        "    auc = cross_val_score(\n",
        "        model, X_train_tfidf, y_train, scoring='roc_auc', cv=kf)\n",
        "\n",
        "    return auc.mean()"
      ]
    },
    {
      "cell_type": "markdown",
      "metadata": {
        "id": "YKouK9yilreB"
      },
      "source": [
        "The MultinominalNB class only have one hypterparameter - alpha. We use the code below to determine what alpha value will give us the best CV AUC score.\n",
        "\n"
      ]
    },
    {
      "cell_type": "code",
      "execution_count": null,
      "metadata": {
        "colab": {
          "base_uri": "https://localhost:8080/",
          "height": 428
        },
        "id": "I8uGqPG4kYJr",
        "outputId": "8a3f1d00-8aec-4d60-e024-b25a1b4a135d"
      },
      "outputs": [
        {
          "output_type": "stream",
          "name": "stdout",
          "text": [
            "Best alpha: 0.28\n"
          ]
        },
        {
          "output_type": "display_data",
          "data": {
            "text/plain": [
              "<Figure size 500x400 with 1 Axes>"
            ],
            "image/png": "[encoded data removed]"
          },
          "metadata": {}
        }
      ],
      "source": [
        "from sklearn.naive_bayes import MultinomialNB\n",
        "\n",
        "res = pd.Series([get_auc_CV(MultinomialNB(alpha=i)) for i in np.arange(0.01, 100, 0.01)], index=np.arange(0.01, 100, 0.01))\n",
        "best_alpha = np.round(res.idxmax(), 2)\n",
        "print('Best alpha:', best_alpha)\n",
        "\n",
        "plt.figure(figsize=(5,4))\n",
        "plt.plot(res, color='lightsteelblue', linewidth=2)\n",
        "plt.title('AUC vs. Alpha')\n",
        "plt.xlabel('Alpha')\n",
        "plt.ylabel('AUC')\n",
        "plt.show()"
      ]
    },
    {
      "cell_type": "markdown",
      "metadata": {
        "id": "Xxupp0FUXuEV"
      },
      "source": [
        "### 2.2. Evaluation on Validation Set"
      ]
    },
    {
      "cell_type": "markdown",
      "metadata": {
        "id": "QQj8VZq2XvTG"
      },
      "source": [
        "We assess the performance of the model and compute the accuracy rate and the AUC score on the validation set."
      ]
    },
    {
      "cell_type": "code",
      "execution_count": null,
      "metadata": {
        "id": "C429YC03bm4D"
      },
      "outputs": [],
      "source": [
        "from sklearn.metrics import accuracy_score, roc_curve, auc\n",
        "from sklearn.metrics import confusion_matrix, classification_report\n",
        "\n",
        "def evaluate_roc(probs, y_true):\n",
        "    \"\"\"\n",
        "    - Print AUC and accuracy on the test set\n",
        "    - Plot ROC\n",
        "    @params    probs (np.array): an array of predicted probabilities with shape (len(y_true), 2)\n",
        "    @params    y_true (np.array): an array of the true values with shape (len(y_true),)\n",
        "    \"\"\"\n",
        "    preds = probs[:, 1]\n",
        "    fpr, tpr, threshold = roc_curve(y_true, preds)\n",
        "    roc_auc = auc(fpr, tpr)\n",
        "    print(f'AUC: {roc_auc:.4f}')\n",
        "\n",
        "    # Get accuracy over the test set\n",
        "    y_pred = np.where(preds >= 0.5, 1, 0)\n",
        "    accuracy = accuracy_score(y_true, y_pred)\n",
        "    print(f'Accuracy: {accuracy*100:.2f}%')\n",
        "\n",
        "    # Plot ROC AUC\n",
        "    plt.figure(figsize=(5,4))\n",
        "    plt.title('Receiver Operating Characteristic')\n",
        "    plt.plot(fpr, tpr, color='lightsteelblue', label = 'AUC = %0.2f' % roc_auc)\n",
        "    plt.legend(loc = 'lower right')\n",
        "    plt.plot([0, 1], [0, 1],color='navy', linestyle='-')\n",
        "    plt.xlim([0, 1])\n",
        "    plt.ylim([0, 1])\n",
        "    plt.ylabel('True Positive Rate')\n",
        "    plt.xlabel('False Positive Rate')\n",
        "    plt.show()"
      ]
    },
    {
      "cell_type": "code",
      "execution_count": null,
      "metadata": {
        "colab": {
          "base_uri": "https://localhost:8080/",
          "height": 446
        },
        "id": "bPnNl1q9X_4y",
        "outputId": "bf06572d-ca90-4ba2-abc0-56383cc1fca1"
      },
      "outputs": [
        {
          "output_type": "stream",
          "name": "stdout",
          "text": [
            "AUC: 0.8929\n",
            "Accuracy: 76.04%\n"
          ]
        },
        {
          "output_type": "display_data",
          "data": {
            "text/plain": [
              "<Figure size 500x400 with 1 Axes>"
            ],
            "image/png": "[encoded data removed]"
          },
          "metadata": {}
        }
      ],
      "source": [
        "# Compute predicted probabilities\n",
        "nb_model = MultinomialNB(alpha=1.8)\n",
        "nb_model.fit(X_train_tfidf, y_train)\n",
        "probs = nb_model.predict_proba(X_val_tfidf)\n",
        "\n",
        "# Evaluate the classifier\n",
        "evaluate_roc(probs, y_val)"
      ]
    },
    {
      "cell_type": "code",
      "source": [
        "y_pred = nb_model.predict(X_val_tfidf)"
      ],
      "metadata": {
        "id": "45FEAK602bnc"
      },
      "execution_count": null,
      "outputs": []
    },
    {
      "cell_type": "code",
      "source": [
        "print(classification_report(y_val, y_pred))"
      ],
      "metadata": {
        "colab": {
          "base_uri": "https://localhost:8080/"
        },
        "id": "e0Ep3cpVz3c6",
        "outputId": "aa6c2b22-2124-426b-b1b8-13003d19b11b"
      },
      "execution_count": null,
      "outputs": [
        {
          "output_type": "stream",
          "name": "stdout",
          "text": [
            "              precision    recall  f1-score   support\n",
            "\n",
            "           0       0.71      0.99      0.83      1546\n",
            "           1       0.96      0.46      0.62      1146\n",
            "\n",
            "    accuracy                           0.76      2692\n",
            "   macro avg       0.83      0.72      0.72      2692\n",
            "weighted avg       0.82      0.76      0.74      2692\n",
            "\n"
          ]
        }
      ]
    },
    {
      "cell_type": "markdown",
      "source": [
        "#D - Support vector machines (SVMs)  "
      ],
      "metadata": {
        "id": "5AGaWmBWBKeW"
      }
    },
    {
      "cell_type": "markdown",
      "source": [
        "Support vector machines (SVMs) are a set of supervised learning techniques for solving classification and regression problems. SVMs are classifiers based on two key ideas, which allow to treat nonlinear discrimination problems, and to reformulate the classification problem as a quadratic optimization problem.\n",
        "\n",
        "Here we will fine-tune a suppert vector machine model and apply it to our dataset."
      ],
      "metadata": {
        "id": "GfeZMMHtMhhP"
      }
    },
    {
      "cell_type": "code",
      "source": [
        "# Library for Support Vector Machine\n",
        "from sklearn import svm, model_selection, preprocessing"
      ],
      "metadata": {
        "id": "Rgx73EXdBv2m"
      },
      "execution_count": null,
      "outputs": []
    },
    {
      "cell_type": "code",
      "source": [
        "# Create SVM Classifier\n",
        "svm_clf = svm.SVC(C=10, gamma=0.5, kernel='rbf', probability=True) # best params\n",
        "\n",
        "# Train algo on training data\n",
        "svm_clf.fit(X_train_tfidf, y_train)\n",
        "\n",
        "# Predict target for testing data\n",
        "y_pred = svm_clf.predict(X_val_tfidf)\n"
      ],
      "metadata": {
        "id": "XE3q0rT4Noa9"
      },
      "execution_count": null,
      "outputs": []
    },
    {
      "cell_type": "code",
      "source": [
        "parameters = {'C':[0.1,1,10],\n",
        "              'kernel': ['linear','rbf','poly'],\n",
        "              'gamma':[0.001, 0.1, 0.5]}\n",
        "grid_svm_clf = model_selection.GridSearchCV(estimator=svm_clf, param_grid=parameters)\n",
        "grille = grid_svm_clf.fit(X_train_tfidf, y_train)"
      ],
      "metadata": {
        "id": "LqTBiSW4QgNh"
      },
      "execution_count": null,
      "outputs": []
    },
    {
      "cell_type": "code",
      "source": [
        "#print(pd.DataFrame.from_dict(grille.cv_results_).loc[:,['params', 'mean_test_score']])\n",
        "grid_svm_clf.best_params_"
      ],
      "metadata": {
        "id": "f-OfdMMLZpir"
      },
      "execution_count": null,
      "outputs": []
    },
    {
      "cell_type": "code",
      "source": [
        "probs = svm_clf.predict_proba(X_val_tfidf)\n",
        "\n",
        "# Evaluate the classifier\n",
        "evaluate_roc(probs, y_val)"
      ],
      "metadata": {
        "id": "a3wQKhyfalB5",
        "colab": {
          "base_uri": "https://localhost:8080/",
          "height": 446
        },
        "outputId": "4ab84d43-484a-4ec8-9e00-de5011a3eff5"
      },
      "execution_count": null,
      "outputs": [
        {
          "output_type": "stream",
          "name": "stdout",
          "text": [
            "AUC: 0.9028\n",
            "Accuracy: 82.54%\n"
          ]
        },
        {
          "output_type": "display_data",
          "data": {
            "text/plain": [
              "<Figure size 500x400 with 1 Axes>"
            ],
            "image/png": "[encoded data removed]"
          },
          "metadata": {}
        }
      ]
    },
    {
      "cell_type": "code",
      "source": [
        "y_pred = svm_clf.predict(X_val_tfidf)\n",
        "print(classification_report(y_val, y_pred))"
      ],
      "metadata": {
        "colab": {
          "base_uri": "https://localhost:8080/"
        },
        "id": "efnNrGYcIMAU",
        "outputId": "32a1c67b-6e71-4d89-ee79-13ced5657ec4"
      },
      "execution_count": null,
      "outputs": [
        {
          "output_type": "stream",
          "name": "stdout",
          "text": [
            "              precision    recall  f1-score   support\n",
            "\n",
            "           0       0.84      0.88      0.86      1546\n",
            "           1       0.82      0.77      0.79      1146\n",
            "\n",
            "    accuracy                           0.83      2692\n",
            "   macro avg       0.83      0.82      0.83      2692\n",
            "weighted avg       0.83      0.83      0.83      2692\n",
            "\n"
          ]
        }
      ]
    },
    {
      "cell_type": "markdown",
      "source": [
        "# E - Random Forest Algorithm"
      ],
      "metadata": {
        "id": "vYPBWv8IZwsU"
      }
    },
    {
      "cell_type": "markdown",
      "source": [
        "A supervised machine learning algorithm that assigns data to categories by building several decision trees and aggregating the outputs of these trees. Each tree is built using a random sample of training data and input variable."
      ],
      "metadata": {
        "id": "in2KRAh2eNCk"
      }
    },
    {
      "cell_type": "code",
      "source": [
        "from sklearn.ensemble import RandomForestClassifier"
      ],
      "metadata": {
        "id": "p93M-Ss8Z1WQ"
      },
      "execution_count": null,
      "outputs": []
    },
    {
      "cell_type": "code",
      "source": [
        "# Create Random Forest Classifier object\n",
        "forest = RandomForestClassifier(random_state=1)\n",
        "\n",
        "# Train algo on training data\n",
        "forest.fit(X_train_tfidf, y_train)\n",
        "\n",
        "# Predict target for testing data\n",
        "y_pred = forest.predict(X_val_tfidf)\n",
        "\n",
        "print(\"Classification Report\")\n",
        "confusion_report = classification_report(y_val, y_pred)\n",
        "print(confusion_report)\n",
        "\n",
        "print(\"\\nConfusion Matrix\")\n",
        "confusion_attack = confusion_matrix(y_val, y_pred)\n",
        "print(confusion_attack)\n",
        "\"\"\"\n",
        "# plotROC(forest, X_test, y_test, 0, 0)\n",
        "from sklearn import metrics\n",
        "metrics.plot_roc_curve(forest, X_val_tfidf, y_val);\n",
        "\"\"\""
      ],
      "metadata": {
        "id": "AH69zb6hZ1ZJ",
        "colab": {
          "base_uri": "https://localhost:8080/",
          "height": 303
        },
        "outputId": "992eddf7-47d2-4c8d-8807-2ead43ca884e"
      },
      "execution_count": null,
      "outputs": [
        {
          "output_type": "stream",
          "name": "stdout",
          "text": [
            "Classification Report\n",
            "              precision    recall  f1-score   support\n",
            "\n",
            "           0       0.79      0.87      0.83      1546\n",
            "           1       0.80      0.69      0.74      1146\n",
            "\n",
            "    accuracy                           0.80      2692\n",
            "   macro avg       0.80      0.78      0.79      2692\n",
            "weighted avg       0.80      0.80      0.79      2692\n",
            "\n",
            "\n",
            "Confusion Matrix\n",
            "[[1351  195]\n",
            " [ 353  793]]\n"
          ]
        },
        {
          "output_type": "execute_result",
          "data": {
            "text/plain": [
              "'\\n# plotROC(forest, X_test, y_test, 0, 0)\\nfrom sklearn import metrics\\nmetrics.plot_roc_curve(forest, X_val_tfidf, y_val); \\n'"
            ],
            "application/vnd.google.colaboratory.intrinsic+json": {
              "type": "string"
            }
          },
          "metadata": {},
          "execution_count": 42
        }
      ]
    },
    {
      "cell_type": "code",
      "source": [
        "probs = forest.predict_proba(X_val_tfidf)\n",
        "\n",
        "# Evaluate the classifier\n",
        "evaluate_roc(probs, y_val)"
      ],
      "metadata": {
        "id": "LpiC2nWbZ1rF",
        "colab": {
          "base_uri": "https://localhost:8080/",
          "height": 445
        },
        "outputId": "e77bca59-ebbc-4126-b117-b61047562369"
      },
      "execution_count": null,
      "outputs": [
        {
          "output_type": "stream",
          "name": "stdout",
          "text": [
            "AUC: 0.8708\n",
            "Accuracy: 79.49%\n"
          ]
        },
        {
          "output_type": "display_data",
          "data": {
            "text/plain": [
              "<Figure size 500x400 with 1 Axes>"
            ],
            "image/png": "[encoded data removed]"
          },
          "metadata": {}
        }
      ]
    },
    {
      "cell_type": "markdown",
      "source": [
        "# F - Neural Network Model (LSTM)\n"
      ],
      "metadata": {
        "id": "4Ne_dwMe18te"
      }
    },
    {
      "cell_type": "markdown",
      "source": [
        "Here we are trying to achieve better results with a Recurrent Neural Network. Recurrent neural networks are networks with loops in them, allowing information to persist."
      ],
      "metadata": {
        "id": "O18VqqXGLVjs"
      }
    },
    {
      "cell_type": "code",
      "source": [
        "# Load libraries\n",
        "from sklearn.feature_extraction.text import CountVectorizer\n",
        "from keras.preprocessing.text import Tokenizer\n",
        "from keras import optimizers\n",
        "import tensorflow as tf\n",
        "from tensorflow import keras\n",
        "from tensorflow.keras import layers\n",
        "from keras.utils import pad_sequences\n",
        "from keras.models import Sequential\n",
        "from keras.layers import Dense, Embedding, LSTM\n",
        "from sklearn.model_selection import train_test_split\n",
        "from keras.utils.np_utils import to_categorical"
      ],
      "metadata": {
        "id": "IqvNNQxILg5f"
      },
      "execution_count": null,
      "outputs": []
    },
    {
      "cell_type": "markdown",
      "source": [
        "We define the number of max features as 10000 and use a Tokenizer to vectorize and convert text into sequences so the Network can deal with it as input."
      ],
      "metadata": {
        "id": "FmBRfEbtMjNw"
      }
    },
    {
      "cell_type": "code",
      "source": [
        "# Optimal Hyperperameters computed with the Adaptive Experimentation Platform ax\n",
        "('learning_rate', 0.00037497085604522795)\n",
        "('dropout_rate', 0.3704542676887013)\n",
        "('lstm_units', 7)\n",
        "('neurons_dense', 295)\n",
        "('num_epochs', 3)\n",
        "('batch_size', 64)\n",
        "('embedding_size', 159)\n",
        "('max_text_len', 595)\n",
        "\n",
        "{'keras_cv': 0.7178105882662403}"
      ],
      "metadata": {
        "id": "vwPudkvysDAi",
        "colab": {
          "base_uri": "https://localhost:8080/"
        },
        "outputId": "31c09b1c-37c6-4785-82d9-5bb89508922b"
      },
      "execution_count": null,
      "outputs": [
        {
          "output_type": "execute_result",
          "data": {
            "text/plain": [
              "{'keras_cv': 0.7178105882662403}"
            ]
          },
          "metadata": {},
          "execution_count": 44
        }
      ]
    },
    {
      "cell_type": "code",
      "source": [
        "max_fatures = 20000\n",
        "max_text_len = 595\n",
        "tokenizer = Tokenizer(num_words=max_fatures)\n",
        "tokenizer.fit_on_texts(data_train['text'])\n",
        "X = tokenizer.texts_to_sequences(data_train['text'])\n",
        "X = pad_sequences(X, maxlen=max_text_len).astype('float32')"
      ],
      "metadata": {
        "id": "lE1Zxv2eMEcd"
      },
      "execution_count": null,
      "outputs": []
    },
    {
      "cell_type": "code",
      "source": [
        "# Define the train and test datasets\n",
        "Y = pd.get_dummies(data_train['sentiment']).values.astype('float32')\n",
        "X_train, X_test, Y_train, Y_test = train_test_split(X,Y, test_size = 0.2, random_state = 42)\n",
        "print(X_train.shape,Y_train.shape)\n",
        "print(X_test.shape,Y_test.shape)"
      ],
      "metadata": {
        "colab": {
          "base_uri": "https://localhost:8080/"
        },
        "id": "7-jisez01DFC",
        "outputId": "4c249b77-f197-4782-d1f8-7712e111e49f"
      },
      "execution_count": null,
      "outputs": [
        {
          "output_type": "stream",
          "name": "stdout",
          "text": [
            "(10766, 595) (10766, 2)\n",
            "(2692, 595) (2692, 2)\n"
          ]
        }
      ]
    },
    {
      "cell_type": "code",
      "source": [
        "adam = optimizers.Adam(learning_rate=0.00037497085604522795)\n",
        "batch_size=64\n",
        "epochs=3\n",
        "\n",
        "inputs = tf.keras.Input(shape=(max_text_len,))\n",
        "\n",
        "x = layers.Embedding(max_fatures, 159)(inputs)\n",
        "x = layers.LSTM(units=7)(x)\n",
        "x = layers.Dense(295, activation=\"relu\")(x)\n",
        "x = layers.Dropout(0.3704542676887013)(x)\n",
        "x = layers.Flatten()(x)\n",
        "\n",
        "outputs = layers.Dense(2, activation=\"sigmoid\")(x)\n",
        "model = tf.keras.Model(inputs=inputs, outputs=outputs)\n",
        "\n",
        "model.compile(loss = 'binary_crossentropy', optimizer='adam', metrics = [tf.keras.metrics.AUC()])\n",
        "print(model.summary())"
      ],
      "metadata": {
        "colab": {
          "base_uri": "https://localhost:8080/"
        },
        "id": "VfJZXHbvr7Tr",
        "outputId": "d215e7b6-6e5f-4653-8021-d57f57faa9c7"
      },
      "execution_count": null,
      "outputs": [
        {
          "output_type": "stream",
          "name": "stdout",
          "text": [
            "Model: \"model\"\n",
            "_________________________________________________________________\n",
            " Layer (type)                Output Shape              Param #   \n",
            "=================================================================\n",
            " input_1 (InputLayer)        [(None, 595)]             0         \n",
            "                                                                 \n",
            " embedding (Embedding)       (None, 595, 159)          3180000   \n",
            "                                                                 \n",
            " lstm (LSTM)                 (None, 7)                 4676      \n",
            "                                                                 \n",
            " dense (Dense)               (None, 295)               2360      \n",
            "                                                                 \n",
            " dropout (Dropout)           (None, 295)               0         \n",
            "                                                                 \n",
            " flatten (Flatten)           (None, 295)               0         \n",
            "                                                                 \n",
            " dense_1 (Dense)             (None, 2)                 592       \n",
            "                                                                 \n",
            "=================================================================\n",
            "Total params: 3,187,628\n",
            "Trainable params: 3,187,628\n",
            "Non-trainable params: 0\n",
            "_________________________________________________________________\n",
            "None\n"
          ]
        }
      ]
    },
    {
      "cell_type": "code",
      "source": [
        "model.fit(X_train, Y_train, epochs=epochs, batch_size=batch_size, validation_data=(X_test,Y_test))"
      ],
      "metadata": {
        "colab": {
          "base_uri": "https://localhost:8080/"
        },
        "id": "8Vjyyx8qKMLG",
        "outputId": "cf5674dc-54af-4464-9d4d-f5362fb2e46d"
      },
      "execution_count": null,
      "outputs": [
        {
          "output_type": "stream",
          "name": "stdout",
          "text": [
            "Epoch 1/3\n",
            "169/169 [==============================] - 37s 167ms/step - loss: 0.5154 - auc: 0.8231 - val_loss: 0.4204 - val_auc: 0.8915\n",
            "Epoch 2/3\n",
            "169/169 [==============================] - 14s 83ms/step - loss: 0.2797 - auc: 0.9522 - val_loss: 0.4104 - val_auc: 0.9001\n",
            "Epoch 3/3\n",
            "169/169 [==============================] - 8s 44ms/step - loss: 0.1648 - auc: 0.9829 - val_loss: 0.4898 - val_auc: 0.8938\n"
          ]
        },
        {
          "output_type": "execute_result",
          "data": {
            "text/plain": [
              "<keras.callbacks.History at 0x7fdabc1dfe20>"
            ]
          },
          "metadata": {},
          "execution_count": 48
        }
      ]
    },
    {
      "cell_type": "code",
      "source": [
        "model.evaluate(X_test,Y_test)"
      ],
      "metadata": {
        "colab": {
          "base_uri": "https://localhost:8080/"
        },
        "id": "BZwNLmANL61_",
        "outputId": "46c0484a-a0d1-418e-8adb-cfb3d2a08a2a"
      },
      "execution_count": null,
      "outputs": [
        {
          "output_type": "stream",
          "name": "stdout",
          "text": [
            "85/85 [==============================] - 1s 9ms/step - loss: 0.4898 - auc: 0.8938\n"
          ]
        },
        {
          "output_type": "execute_result",
          "data": {
            "text/plain": [
              "[0.4897593855857849, 0.8937586545944214]"
            ]
          },
          "metadata": {},
          "execution_count": 49
        }
      ]
    },
    {
      "cell_type": "code",
      "source": [
        "y_pred = model.predict(X_test)\n",
        "y_pred=np.argmax(y_pred, axis=1)\n",
        "y_test=np.argmax(Y_test, axis=1)"
      ],
      "metadata": {
        "colab": {
          "base_uri": "https://localhost:8080/"
        },
        "id": "r4BNTyE3K5y1",
        "outputId": "4e415a2e-a963-4972-e623-af8df47d751e"
      },
      "execution_count": null,
      "outputs": [
        {
          "output_type": "stream",
          "name": "stdout",
          "text": [
            "85/85 [==============================] - 1s 8ms/step\n"
          ]
        }
      ]
    },
    {
      "cell_type": "code",
      "source": [
        "print(classification_report(y_test, y_pred))"
      ],
      "metadata": {
        "colab": {
          "base_uri": "https://localhost:8080/"
        },
        "id": "bJ7huWiyre9O",
        "outputId": "cd32e069-50ac-4a88-ee64-374fca6dee2a"
      },
      "execution_count": null,
      "outputs": [
        {
          "output_type": "stream",
          "name": "stdout",
          "text": [
            "              precision    recall  f1-score   support\n",
            "\n",
            "           0       0.79      0.89      0.84      1517\n",
            "           1       0.84      0.70      0.76      1175\n",
            "\n",
            "    accuracy                           0.81      2692\n",
            "   macro avg       0.81      0.80      0.80      2692\n",
            "weighted avg       0.81      0.81      0.81      2692\n",
            "\n"
          ]
        }
      ]
    },
    {
      "cell_type": "markdown",
      "metadata": {
        "id": "VzmwxmXRZQhb"
      },
      "source": [
        "# G - Fine-tuning Large Language Models\n",
        "\n",
        "The NLP/ML approaches tested above only yield limited results, with an accuracy of 60.43% for naïve Bayes (NB), 50.11% for LSTM, 65.45% for SVMs, and 65% for random forests. We will therefore test four different large language models to see if they perform better."
      ]
    },
    {
      "cell_type": "markdown",
      "metadata": {
        "id": "D0TYFqXxZqHx"
      },
      "source": [
        "## 1. Install the Hugging Face Library"
      ]
    },
    {
      "cell_type": "markdown",
      "metadata": {
        "id": "Cpgcx2FWaFBl"
      },
      "source": [
        "Hugging Face's transformer library includes pre-trained model weights and PyTorch implementations of cutting-edge NLP models like BERT (from Google) and GPT (from OpenAI)."
      ]
    },
    {
      "cell_type": "code",
      "execution_count": null,
      "metadata": {
        "id": "sDmdRM4uZSh_",
        "colab": {
          "base_uri": "https://localhost:8080/"
        },
        "outputId": "cf2c90ba-eddc-4897-d6ea-40622ef07f86"
      },
      "outputs": [
        {
          "output_type": "stream",
          "name": "stdout",
          "text": [
            "Looking in indexes: https://pypi.org/simple, https://us-python.pkg.dev/colab-wheels/public/simple/\n",
            "Requirement already satisfied: transformers==4.2.0 in /usr/local/lib/python3.9/dist-packages (4.2.0)\n",
            "Requirement already satisfied: tqdm>=4.27 in /usr/local/lib/python3.9/dist-packages (from transformers==4.2.0) (4.65.0)\n",
            "Requirement already satisfied: requests in /usr/local/lib/python3.9/dist-packages (from transformers==4.2.0) (2.27.1)\n",
            "Requirement already satisfied: regex!=2019.12.17 in /usr/local/lib/python3.9/dist-packages (from transformers==4.2.0) (2022.10.31)\n",
            "Requirement already satisfied: packaging in /usr/local/lib/python3.9/dist-packages (from transformers==4.2.0) (23.0)\n",
            "Requirement already satisfied: tokenizers==0.9.4 in /usr/local/lib/python3.9/dist-packages (from transformers==4.2.0) (0.9.4)\n",
            "Requirement already satisfied: numpy in /usr/local/lib/python3.9/dist-packages (from transformers==4.2.0) (1.22.4)\n",
            "Requirement already satisfied: filelock in /usr/local/lib/python3.9/dist-packages (from transformers==4.2.0) (3.10.7)\n",
            "Requirement already satisfied: sacremoses in /usr/local/lib/python3.9/dist-packages (from transformers==4.2.0) (0.0.53)\n",
            "Requirement already satisfied: certifi>=2017.4.17 in /usr/local/lib/python3.9/dist-packages (from requests->transformers==4.2.0) (2022.12.7)\n",
            "Requirement already satisfied: idna<4,>=2.5 in /usr/local/lib/python3.9/dist-packages (from requests->transformers==4.2.0) (3.4)\n",
            "Requirement already satisfied: urllib3<1.27,>=1.21.1 in /usr/local/lib/python3.9/dist-packages (from requests->transformers==4.2.0) (1.26.15)\n",
            "Requirement already satisfied: charset-normalizer~=2.0.0 in /usr/local/lib/python3.9/dist-packages (from requests->transformers==4.2.0) (2.0.12)\n",
            "Requirement already satisfied: joblib in /usr/local/lib/python3.9/dist-packages (from sacremoses->transformers==4.2.0) (1.1.1)\n",
            "Requirement already satisfied: click in /usr/local/lib/python3.9/dist-packages (from sacremoses->transformers==4.2.0) (8.1.3)\n",
            "Requirement already satisfied: six in /usr/local/lib/python3.9/dist-packages (from sacremoses->transformers==4.2.0) (1.16.0)\n"
          ]
        }
      ],
      "source": [
        "#Stable version\n",
        "!pip install transformers==4.2.0"
      ]
    },
    {
      "cell_type": "code",
      "source": [
        "## Required for XLNnet transformer model\n",
        "!pip install sentencepiece"
      ],
      "metadata": {
        "id": "PpzIaok3Ioa7",
        "colab": {
          "base_uri": "https://localhost:8080/"
        },
        "outputId": "a54ca853-5cd8-46f3-e1cb-c51e456d7f10"
      },
      "execution_count": null,
      "outputs": [
        {
          "output_type": "stream",
          "name": "stdout",
          "text": [
            "Looking in indexes: https://pypi.org/simple, https://us-python.pkg.dev/colab-wheels/public/simple/\n",
            "Requirement already satisfied: sentencepiece in /usr/local/lib/python3.9/dist-packages (0.1.97)\n"
          ]
        }
      ]
    },
    {
      "cell_type": "markdown",
      "source": [
        "## 2. Fine Tuning the Models\n",
        "\n",
        "The model predicts two possible sentiment values for each input sentence:\n",
        "\n",
        "> 0: Negative <br>\n",
        "> 1: Positive\n",
        "\n",
        "\n",
        "We will fine-tune the following large language models and compare the results on our dataset:\n",
        "\n",
        "> 1) BERT<br>\n",
        "> 2) XLNet <br>\n",
        "> 3) FinNBERT <br>\n",
        "4) RoBERTa"
      ],
      "metadata": {
        "id": "B0iTblPgTkJq"
      }
    },
    {
      "cell_type": "code",
      "source": [
        "from scipy.special import softmax\n",
        "\n",
        "def test_model(model, tokenizer, X_test, y_test):\n",
        "    test_encodings = tokenizer(list(X_test), truncation=True, padding=True, max_length=512)\n",
        "    test_dataset = SentimentDataset(test_encodings, y_test)\n",
        "\n",
        "    # Set up the data collator to avoid padding the labels\n",
        "    data_collator = DataCollatorWithPadding(tokenizer=tokenizer)\n",
        "\n",
        "    # Set up the trainer with the test data\n",
        "    trainer = Trainer(model=model, data_collator=data_collator)\n",
        "\n",
        "    # Make predictions on the test set\n",
        "    predictions = trainer.predict(test_dataset=test_dataset).predictions.argmax(axis=1)\n",
        "\n",
        "    # Make predictions on the test set\n",
        "    predictions_prob = trainer.predict(test_dataset=test_dataset).predictions[:, 1]\n",
        "\n",
        "    # Return the true and predicted labels\n",
        "    return y_test, predictions, predictions_prob"
      ],
      "metadata": {
        "id": "d9hBbtRyGMjn"
      },
      "execution_count": null,
      "outputs": []
    },
    {
      "cell_type": "code",
      "source": [
        "from scipy.special import softmax\n",
        "\n",
        "def predict_sentiment(model, tokenizer, X_test):\n",
        "    test_encodings = tokenizer(list(X_test), truncation=True, padding=True, max_length=512)\n",
        "    y_test = [1] * len(list(X_test))\n",
        "    test_dataset = SentimentDataset(test_encodings, y_test)\n",
        "\n",
        "    # Set up the data collator to avoid padding the labels\n",
        "    data_collator = DataCollatorWithPadding(tokenizer=tokenizer)\n",
        "\n",
        "    # Set up the trainer with the test data\n",
        "    trainer = Trainer(model=model, data_collator=data_collator)\n",
        "\n",
        "    # Make predictions on the test set\n",
        "    predictions = trainer.predict(test_dataset=test_dataset).predictions.argmax(axis=1)\n",
        "\n",
        "    # Make predictions on the test set\n",
        "    predictions_prob = trainer.predict(test_dataset=test_dataset).predictions\n",
        "\n",
        "    # Return the true and predicted labels\n",
        "    return predictions, predictions_prob"
      ],
      "metadata": {
        "id": "_DiBBJHAmINw"
      },
      "execution_count": null,
      "outputs": []
    },
    {
      "cell_type": "markdown",
      "source": [
        "### 2.1. Hyperparameters & Learning Rate Scheduler\n"
      ],
      "metadata": {
        "id": "qo9AwlOFY-51"
      }
    },
    {
      "cell_type": "markdown",
      "source": [
        "In order to achieve optimal resultas, we can change the hyper-parameters, e.g.:\n",
        "\n",
        "- Batch size: 16 or 32\n",
        "- Learning rate: 5e-5, 3e-5 or 2e-5\n",
        "- Number of epochs: 2, 3, 4"
      ],
      "metadata": {
        "id": "hYZeFCVDYRRT"
      }
    },
    {
      "cell_type": "code",
      "source": [
        "import pandas as pd\n",
        "import numpy as np\n",
        "from transformers import DataCollatorWithPadding, BertTokenizer, BertForSequenceClassification, Trainer, TrainingArguments\n",
        "from transformers import default_data_collator\n",
        "from sklearn.metrics import classification_report, accuracy_score\n",
        "from sklearn.metrics import classification_report, confusion_matrix, roc_curve, roc_auc_score\n",
        "import matplotlib.pyplot as plt\n",
        "import seaborn as sns\n",
        "from sklearn.metrics import accuracy_score, precision_recall_fscore_support\n",
        "\n",
        "# Create a Dataset object from the encodings\n",
        "class SentimentDataset(torch.utils.data.Dataset):\n",
        "        def __init__(self, encodings, labels):\n",
        "            self.encodings = encodings\n",
        "            self.labels = labels\n",
        "\n",
        "        def __getitem__(self, idx):\n",
        "            item = {key: torch.tensor(val[idx]) for key, val in self.encodings.items()}\n",
        "            item['labels'] = torch.tensor(self.labels[idx])\n",
        "            return item\n",
        "\n",
        "        def __len__(self):\n",
        "            return len(self.labels)\n",
        "\n",
        "def show_evaluation_results(y_true, y_pred, y_pred_proba):\n",
        "    print('Classification Report:')\n",
        "    print(classification_report(y_true, y_pred))\n",
        "\n",
        "    # Compute ROC curve and ROC area for each class\n",
        "    fpr, tpr, _ = roc_curve(y_true, y_pred_proba)\n",
        "    roc_auc = roc_auc_score(y_true, y_pred_proba)\n",
        "\n",
        "    plt.figure(figsize=(15,4))\n",
        "    plt.subplot(131)\n",
        "    lw = 2\n",
        "    plt.plot(fpr, tpr, color='lightsteelblue', lw=lw, label='ROC curve (area = %0.2f)' % roc_auc)\n",
        "    plt.plot([0, 1], [0, 1], color='navy', lw=lw, linestyle='-')\n",
        "    plt.xlim([0.0, 1.0])\n",
        "    plt.ylim([0.0, 1.05])\n",
        "    plt.xlabel('False Positive Rate')\n",
        "    plt.ylabel('True Positive Rate')\n",
        "    plt.title('Receiver operating characteristic')\n",
        "    plt.legend(loc=\"lower right\")\n",
        "\n",
        "    # Compute confusion matrix\n",
        "    cm = confusion_matrix(y_true, y_pred)\n",
        "    ax1 = plt.subplot(132)\n",
        "    sns.heatmap(cm, annot=True, ax=ax1, cmap='Blues', fmt='g')\n",
        "    ax1.set_xlabel('Predicted labels')\n",
        "    ax1.set_ylabel('True labels')\n",
        "    ax1.set_title('Confusion Matrix')\n",
        "    ax1.xaxis.set_ticklabels(['Negative', 'Positive'])\n",
        "    ax1.yaxis.set_ticklabels(['Negative', 'Positive'])\n",
        "\n",
        "def compute_metrics(p):\n",
        "    y_true = p.label_ids\n",
        "    y_pred = p.predictions.argmax(axis=-1)\n",
        "    try:\n",
        "        precision, recall, f1, _ = precision_recall_fscore_support(y_true, y_pred, average='macro')\n",
        "    except:\n",
        "        precision, recall, f1, _ = precision_recall_fscore_support(y_true, y_pred, average=None)\n",
        "    acc = accuracy_score(y_true, y_pred)\n",
        "    return {\n",
        "        'accuracy': acc,\n",
        "        'f1': f1,\n",
        "        'precision': precision,\n",
        "        'recall': recall\n",
        "    }\n",
        "\n",
        "def show_validation_loss(val_losses, training_loss_values):\n",
        "    # Plot validation loss\n",
        "    ax2 = plt.subplot(133)\n",
        "    plt.plot(np.arange(len(val_losses)), val_losses, label='Validation Loss')\n",
        "    plt.plot(np.arange(len(training_loss_values)), training_loss_values, label='Training Loss')\n",
        "    ax2.set_xlabel('Epochs')\n",
        "    ax2.set_ylabel('Loss')\n",
        "    ax2.set_title('Training vs Validation Loss')\n",
        "    plt.legend(loc='upper right')\n",
        "    plt.tight_layout();\n",
        "\n",
        "\n",
        "def train_model(model, tokenizer, X_train, y_train, X_test, y_test, epochs=5, batch_size=16, max_length=512, learning_rate=2e-5, modelName=\"\", gradient_accumulation_steps=1):\n",
        "\n",
        "    # Tokenize the training data\n",
        "    train_encodings = tokenizer(list(X_train), truncation=True, padding=True, max_length=max_length)\n",
        "    train_dataset = SentimentDataset(train_encodings, y_train)\n",
        "    test_encodings = tokenizer(list(X_test), truncation=True, padding=True, max_length=max_length)\n",
        "    test_dataset = SentimentDataset(test_encodings, y_test)\n",
        "\n",
        "    # Define the training arguments\n",
        "    training_args = TrainingArguments(\n",
        "        output_dir=modelName,          # output directory\n",
        "        num_train_epochs=epochs,          # total number of training epochs\n",
        "        per_device_train_batch_size=batch_size,  # batch size per device during training\n",
        "        per_device_eval_batch_size=batch_size,   # batch size for evaluation\n",
        "        warmup_steps=500,                # number of warmup steps for learning rate scheduler\n",
        "        weight_decay=0.01,               # strength of weight decay\n",
        "        logging_dir='./logs',            # directory for storing logs\n",
        "        learning_rate=learning_rate,\n",
        "        logging_steps=10,\n",
        "        evaluation_strategy='epoch',\n",
        "        save_total_limit=1,\n",
        "        gradient_accumulation_steps=gradient_accumulation_steps\n",
        "    )\n",
        "\n",
        "    # Define the trainer\n",
        "    trainer = Trainer(\n",
        "      model=model,\n",
        "      args=training_args,\n",
        "      train_dataset=train_dataset,\n",
        "      eval_dataset=test_dataset,\n",
        "      data_collator=default_data_collator,\n",
        "      compute_metrics=compute_metrics\n",
        "      )\n",
        "\n",
        "    # Train the model\n",
        "    trainer.train()\n",
        "\n",
        "    eval_loss_values = []\n",
        "    training_loss_values = []\n",
        "    tr_loss_value = None\n",
        "    for i in trainer.state.log_history:\n",
        "        try:\n",
        "            eval_loss_values.append(i['eval_loss'])\n",
        "            training_loss_values.append(tr_loss_value)\n",
        "        except:\n",
        "            pass\n",
        "\n",
        "        try:\n",
        "            tr_loss_value = i['loss']\n",
        "        except:\n",
        "            pass\n",
        "\n",
        "    # Return the trained model and tokenizer\n",
        "    return model, tokenizer, eval_loss_values, training_loss_values"
      ],
      "metadata": {
        "id": "-U8tMpPaouI4"
      },
      "execution_count": null,
      "outputs": []
    },
    {
      "cell_type": "markdown",
      "source": [
        "# H - 1) BERT"
      ],
      "metadata": {
        "id": "dbb0Xc1UT3HG"
      }
    },
    {
      "cell_type": "markdown",
      "source": [
        "## 1. Training Loop and Evaluation\n",
        "\n",
        "BERT-base consists of 12 transformer layers, each transformer layer takes in a list of token embeddings, and produces the same number of embeddings with the same hidden size (or dimensions) on the output. The output of the final transformer layer of the `[CLS]` token is used as the features of the sequence to feed a classifier.\n",
        "\n",
        "The `transformers` library has the [`BertForSequenceClassification`](https://huggingface.co/transformers/v2.2.0/model_doc/bert.html#bertforsequenceclassification) class which is designed for classification tasks.\n",
        "\n",
        "To use a more powerful model replace `bert-base-uncased` by `bert-large-uncased` in following code."
      ],
      "metadata": {
        "id": "PmtOI104ZY2p"
      }
    },
    {
      "cell_type": "code",
      "source": [
        "import warnings\n",
        "import sklearn.exceptions\n",
        "warnings.filterwarnings('ignore', category=sklearn.exceptions.UndefinedMetricWarning)\n",
        "path"
      ],
      "metadata": {
        "id": "1zIGEdm2xFma",
        "colab": {
          "base_uri": "https://localhost:8080/",
          "height": 35
        },
        "outputId": "c34fe6f5-6615-426a-9e02-ab2f5a59671a"
      },
      "execution_count": null,
      "outputs": [
        {
          "output_type": "execute_result",
          "data": {
            "text/plain": [
              "'/content/drive/MyDrive/CentralBankBERTa/Sentiment_classification'"
            ],
            "application/vnd.google.colaboratory.intrinsic+json": {
              "type": "string"
            }
          },
          "metadata": {},
          "execution_count": 17
        }
      ]
    },
    {
      "cell_type": "code",
      "source": [
        "# Load the pre-trained BERT model\n",
        "model = BertForSequenceClassification.from_pretrained('bert-base-uncased', num_labels=2)\n",
        "\n",
        "# Load the BERT tokenizer\n",
        "tokenizer = BertTokenizer.from_pretrained('bert-base-uncased')\n",
        "\n",
        "model_name = 'BERT' # name for saving\n",
        "\n",
        "# Train the model\n",
        "model, tokenizer, val_losses, training_loss_values = train_model(model, tokenizer, X_train, y_train, X_val, y_val, batch_size = 64, learning_rate=2e-6, gradient_accumulation_steps = 2, modelName=path+'/result/'+model_name)\n",
        "\n",
        "# Test the model\n",
        "y_true, y_pred, y_pred_prob = test_model(model, tokenizer, X_val, y_val)\n",
        "\n",
        "# Print the classification report\n",
        "# plot/ show evaluation\n",
        "show_evaluation_results(y_true, y_pred, y_pred_prob)\n",
        "\n",
        "show_validation_loss(val_losses, training_loss_values)"
      ],
      "metadata": {
        "id": "PmdXlIEKJF02",
        "colab": {
          "base_uri": "https://localhost:8080/",
          "height": 923
        },
        "outputId": "7084cf90-9ea1-414a-e24c-ccf7abb7281c"
      },
      "execution_count": null,
      "outputs": [
        {
          "output_type": "stream",
          "name": "stderr",
          "text": [
            "Some weights of the model checkpoint at bert-base-uncased were not used when initializing BertForSequenceClassification: ['cls.predictions.bias', 'cls.predictions.transform.dense.weight', 'cls.predictions.transform.dense.bias', 'cls.predictions.decoder.weight', 'cls.seq_relationship.weight', 'cls.seq_relationship.bias', 'cls.predictions.transform.LayerNorm.weight', 'cls.predictions.transform.LayerNorm.bias']\n",
            "- This IS expected if you are initializing BertForSequenceClassification from the checkpoint of a model trained on another task or with another architecture (e.g. initializing a BertForSequenceClassification model from a BertForPreTraining model).\n",
            "- This IS NOT expected if you are initializing BertForSequenceClassification from the checkpoint of a model that you expect to be exactly identical (initializing a BertForSequenceClassification model from a BertForSequenceClassification model).\n",
            "Some weights of BertForSequenceClassification were not initialized from the model checkpoint at bert-base-uncased and are newly initialized: ['classifier.weight', 'classifier.bias']\n",
            "You should probably TRAIN this model on a down-stream task to be able to use it for predictions and inference.\n"
          ]
        },
        {
          "output_type": "display_data",
          "data": {
            "text/plain": [
              "<IPython.core.display.HTML object>"
            ],
            "text/html": [
              "\n",
              "    <div>\n",
              "        <style>\n",
              "            /* Turns off some styling */\n",
              "            progress {\n",
              "                /* gets rid of default border in Firefox and Opera. */\n",
              "                border: none;\n",
              "                /* Needs to be in here for Safari polyfill so background images work as expected. */\n",
              "                background-size: auto;\n",
              "            }\n",
              "        </style>\n",
              "      \n",
              "      <progress value='500' max='500' style='width:300px; height:20px; vertical-align: middle;'></progress>\n",
              "      [500/500 10:55, Epoch 5/5]\n",
              "    </div>\n",
              "    <table border=\"1\" class=\"dataframe\">\n",
              "  <thead>\n",
              "    <tr style=\"text-align: left;\">\n",
              "      <th>Epoch</th>\n",
              "      <th>Training Loss</th>\n",
              "      <th>Validation Loss</th>\n",
              "      <th>Accuracy</th>\n",
              "      <th>F1</th>\n",
              "      <th>Precision</th>\n",
              "      <th>Recall</th>\n",
              "      <th>Runtime</th>\n",
              "      <th>Samples Per Second</th>\n",
              "    </tr>\n",
              "  </thead>\n",
              "  <tbody>\n",
              "    <tr>\n",
              "      <td>1</td>\n",
              "      <td>0.683300</td>\n",
              "      <td>0.678721</td>\n",
              "      <td>0.583210</td>\n",
              "      <td>0.460466</td>\n",
              "      <td>0.566522</td>\n",
              "      <td>0.523905</td>\n",
              "      <td>4.582700</td>\n",
              "      <td>587.427000</td>\n",
              "    </tr>\n",
              "    <tr>\n",
              "      <td>2</td>\n",
              "      <td>0.641500</td>\n",
              "      <td>0.624322</td>\n",
              "      <td>0.697623</td>\n",
              "      <td>0.632110</td>\n",
              "      <td>0.782632</td>\n",
              "      <td>0.649254</td>\n",
              "      <td>4.583800</td>\n",
              "      <td>587.280000</td>\n",
              "    </tr>\n",
              "    <tr>\n",
              "      <td>3</td>\n",
              "      <td>0.519600</td>\n",
              "      <td>0.506530</td>\n",
              "      <td>0.809064</td>\n",
              "      <td>0.794703</td>\n",
              "      <td>0.828307</td>\n",
              "      <td>0.787143</td>\n",
              "      <td>4.582200</td>\n",
              "      <td>587.488000</td>\n",
              "    </tr>\n",
              "    <tr>\n",
              "      <td>4</td>\n",
              "      <td>0.411400</td>\n",
              "      <td>0.409104</td>\n",
              "      <td>0.845097</td>\n",
              "      <td>0.840162</td>\n",
              "      <td>0.844187</td>\n",
              "      <td>0.837479</td>\n",
              "      <td>4.583200</td>\n",
              "      <td>587.360000</td>\n",
              "    </tr>\n",
              "    <tr>\n",
              "      <td>5</td>\n",
              "      <td>0.339900</td>\n",
              "      <td>0.357796</td>\n",
              "      <td>0.855498</td>\n",
              "      <td>0.851014</td>\n",
              "      <td>0.854718</td>\n",
              "      <td>0.848454</td>\n",
              "      <td>4.619000</td>\n",
              "      <td>582.804000</td>\n",
              "    </tr>\n",
              "  </tbody>\n",
              "</table><p>"
            ]
          },
          "metadata": {}
        },
        {
          "output_type": "display_data",
          "data": {
            "text/plain": [
              "<IPython.core.display.HTML object>"
            ],
            "text/html": [
              "\n",
              "    <div>\n",
              "        <style>\n",
              "            /* Turns off some styling */\n",
              "            progress {\n",
              "                /* gets rid of default border in Firefox and Opera. */\n",
              "                border: none;\n",
              "                /* Needs to be in here for Safari polyfill so background images work as expected. */\n",
              "                background-size: auto;\n",
              "            }\n",
              "        </style>\n",
              "      \n",
              "      <progress value='674' max='337' style='width:300px; height:20px; vertical-align: middle;'></progress>\n",
              "      [337/337 00:11]\n",
              "    </div>\n",
              "    "
            ]
          },
          "metadata": {}
        },
        {
          "output_type": "stream",
          "name": "stdout",
          "text": [
            "Classification Report:\n",
            "              precision    recall  f1-score   support\n",
            "\n",
            "           0       0.86      0.90      0.88      1546\n",
            "           1       0.85      0.80      0.83      1146\n",
            "\n",
            "    accuracy                           0.86      2692\n",
            "   macro avg       0.85      0.85      0.85      2692\n",
            "weighted avg       0.86      0.86      0.85      2692\n",
            "\n"
          ]
        },
        {
          "output_type": "display_data",
          "data": {
            "text/plain": [
              "<Figure size 1500x400 with 4 Axes>"
            ],
            "image/png": "[encoded data removed]"
          },
          "metadata": {}
        }
      ]
    },
    {
      "cell_type": "markdown",
      "source": [
        "## 2. Apply Results to Test Data\n",
        "\n",
        "Predict for Test Data using BERT Model and Save results to Dataframe"
      ],
      "metadata": {
        "id": "KDQ5GtoQmzmO"
      }
    },
    {
      "cell_type": "code",
      "source": [
        "# Load test data\n",
        "predicted_sentiment, probabilities = predict_sentiment(model, tokenizer, data_test.text.values.flatten())\n",
        "data_test['Sentiment (BERT)'] = predicted_sentiment\n",
        "data_test['Negative (BERT)'] = probabilities[:, 0]\n",
        "data_test['Positive (BERT)'] = probabilities[:, 1]\n",
        "data_test.head(10)"
      ],
      "metadata": {
        "id": "TtES16aaHUSF"
      },
      "execution_count": null,
      "outputs": []
    },
    {
      "cell_type": "code",
      "source": [
        "data_test.to_csv(path+'/data_output/bert_data_all.csv', index=False)\n",
        "data_test.head(5)"
      ],
      "metadata": {
        "id": "cN17DcIJ2jyu"
      },
      "execution_count": null,
      "outputs": []
    },
    {
      "cell_type": "markdown",
      "source": [
        "# I - 2) XLNet"
      ],
      "metadata": {
        "id": "fHMF1qhKlk_B"
      }
    },
    {
      "cell_type": "markdown",
      "source": [
        "The XLNet model was proposed in [`XLNet: Generalized Autoregressive Pretraining for Language Understanding`](https://arxiv.org/abs/1906.08237) by Zhilin Yang, Zihang Dai, Yiming Yang, Jaime Carbonell, Ruslan Salakhutdinov, Quoc V. Le. XLnet is an extension of the Transformer-XL model pre-trained using an autoregressive method to learn bidirectional contexts by maximizing the expected likelihood over all permutations of the input sequence factorization order.\n",
        "\n",
        "For a more powerful but slower working model, change `xlnet-base-cased` to `xlnet-large-cased`."
      ],
      "metadata": {
        "id": "X2xS9YWvHRzd"
      }
    },
    {
      "cell_type": "markdown",
      "source": [
        "## 1. Training Loop and Evaluation"
      ],
      "metadata": {
        "id": "CrflIMpdbTOP"
      }
    },
    {
      "cell_type": "code",
      "source": [
        "from transformers import XLNetForSequenceClassification, XLNetTokenizer\n",
        "\n",
        "# Load the pre-trained BERT model\n",
        "model_xlnet = XLNetForSequenceClassification.from_pretrained('xlnet-base-cased', num_labels=2)\n",
        "\n",
        "# Load pre-trained XLNet model\n",
        "tokenizer_xlnet = XLNetTokenizer.from_pretrained('xlnet-base-cased')\n",
        "\n",
        "model_name = 'XLNet'\n",
        "\n",
        "# Train the model\n",
        "model_xlnet, tokenizer_xlnet, val_losses, training_loss_values = train_model(model_xlnet, tokenizer_xlnet, X_train, y_train, X_val, y_val, learning_rate=9e-7, batch_size= 32, gradient_accumulation_steps = 2, epochs=5, modelName=path+'/result/'+model_name)\n",
        "\n",
        "# Test the model\n",
        "y_true, y_pred, y_pred_prob = test_model(model_xlnet, tokenizer_xlnet, X_val, y_val)\n",
        "\n",
        "# Print the classification report\n",
        "# plot/ show evaluation\n",
        "show_evaluation_results(y_true, y_pred, y_pred_prob)\n",
        "\n",
        "show_validation_loss(val_losses, training_loss_values)"
      ],
      "metadata": {
        "id": "lvVsIdjLzJt0",
        "colab": {
          "base_uri": "https://localhost:8080/",
          "height": 923
        },
        "outputId": "3fc55b52-5574-4cc1-85b2-00f4e58bec2f"
      },
      "execution_count": null,
      "outputs": [
        {
          "output_type": "stream",
          "name": "stderr",
          "text": [
            "Some weights of the model checkpoint at xlnet-base-cased were not used when initializing XLNetForSequenceClassification: ['lm_loss.weight', 'lm_loss.bias']\n",
            "- This IS expected if you are initializing XLNetForSequenceClassification from the checkpoint of a model trained on another task or with another architecture (e.g. initializing a BertForSequenceClassification model from a BertForPreTraining model).\n",
            "- This IS NOT expected if you are initializing XLNetForSequenceClassification from the checkpoint of a model that you expect to be exactly identical (initializing a BertForSequenceClassification model from a BertForSequenceClassification model).\n",
            "Some weights of XLNetForSequenceClassification were not initialized from the model checkpoint at xlnet-base-cased and are newly initialized: ['sequence_summary.summary.weight', 'sequence_summary.summary.bias', 'logits_proj.weight', 'logits_proj.bias']\n",
            "You should probably TRAIN this model on a down-stream task to be able to use it for predictions and inference.\n"
          ]
        },
        {
          "output_type": "display_data",
          "data": {
            "text/plain": [
              "<IPython.core.display.HTML object>"
            ],
            "text/html": [
              "\n",
              "    <div>\n",
              "        <style>\n",
              "            /* Turns off some styling */\n",
              "            progress {\n",
              "                /* gets rid of default border in Firefox and Opera. */\n",
              "                border: none;\n",
              "                /* Needs to be in here for Safari polyfill so background images work as expected. */\n",
              "                background-size: auto;\n",
              "            }\n",
              "        </style>\n",
              "      \n",
              "      <progress value='840' max='840' style='width:300px; height:20px; vertical-align: middle;'></progress>\n",
              "      [840/840 31:31, Epoch 4/5]\n",
              "    </div>\n",
              "    <table border=\"1\" class=\"dataframe\">\n",
              "  <thead>\n",
              "    <tr style=\"text-align: left;\">\n",
              "      <th>Epoch</th>\n",
              "      <th>Training Loss</th>\n",
              "      <th>Validation Loss</th>\n",
              "      <th>Accuracy</th>\n",
              "      <th>F1</th>\n",
              "      <th>Precision</th>\n",
              "      <th>Recall</th>\n",
              "      <th>Runtime</th>\n",
              "      <th>Samples Per Second</th>\n",
              "    </tr>\n",
              "  </thead>\n",
              "  <tbody>\n",
              "    <tr>\n",
              "      <td>0</td>\n",
              "      <td>0.700300</td>\n",
              "      <td>0.673616</td>\n",
              "      <td>0.577266</td>\n",
              "      <td>0.528970</td>\n",
              "      <td>0.553721</td>\n",
              "      <td>0.541646</td>\n",
              "      <td>8.875900</td>\n",
              "      <td>303.293000</td>\n",
              "    </tr>\n",
              "    <tr>\n",
              "      <td>1</td>\n",
              "      <td>0.637000</td>\n",
              "      <td>0.611181</td>\n",
              "      <td>0.679792</td>\n",
              "      <td>0.625622</td>\n",
              "      <td>0.714817</td>\n",
              "      <td>0.637343</td>\n",
              "      <td>8.874000</td>\n",
              "      <td>303.359000</td>\n",
              "    </tr>\n",
              "    <tr>\n",
              "      <td>2</td>\n",
              "      <td>0.465900</td>\n",
              "      <td>0.408210</td>\n",
              "      <td>0.841010</td>\n",
              "      <td>0.834032</td>\n",
              "      <td>0.845189</td>\n",
              "      <td>0.828842</td>\n",
              "      <td>8.904500</td>\n",
              "      <td>302.318000</td>\n",
              "    </tr>\n",
              "    <tr>\n",
              "      <td>3</td>\n",
              "      <td>0.349900</td>\n",
              "      <td>0.323020</td>\n",
              "      <td>0.866642</td>\n",
              "      <td>0.863033</td>\n",
              "      <td>0.864873</td>\n",
              "      <td>0.861543</td>\n",
              "      <td>8.911900</td>\n",
              "      <td>302.066000</td>\n",
              "    </tr>\n",
              "    <tr>\n",
              "      <td>4</td>\n",
              "      <td>0.308800</td>\n",
              "      <td>0.319976</td>\n",
              "      <td>0.868871</td>\n",
              "      <td>0.865615</td>\n",
              "      <td>0.866485</td>\n",
              "      <td>0.864838</td>\n",
              "      <td>8.896700</td>\n",
              "      <td>302.583000</td>\n",
              "    </tr>\n",
              "  </tbody>\n",
              "</table><p>"
            ]
          },
          "metadata": {}
        },
        {
          "output_type": "display_data",
          "data": {
            "text/plain": [
              "<IPython.core.display.HTML object>"
            ],
            "text/html": [
              "\n",
              "    <div>\n",
              "        <style>\n",
              "            /* Turns off some styling */\n",
              "            progress {\n",
              "                /* gets rid of default border in Firefox and Opera. */\n",
              "                border: none;\n",
              "                /* Needs to be in here for Safari polyfill so background images work as expected. */\n",
              "                background-size: auto;\n",
              "            }\n",
              "        </style>\n",
              "      \n",
              "      <progress value='674' max='337' style='width:300px; height:20px; vertical-align: middle;'></progress>\n",
              "      [337/337 00:20]\n",
              "    </div>\n",
              "    "
            ]
          },
          "metadata": {}
        },
        {
          "output_type": "stream",
          "name": "stdout",
          "text": [
            "Classification Report:\n",
            "              precision    recall  f1-score   support\n",
            "\n",
            "           0       0.88      0.89      0.89      1546\n",
            "           1       0.85      0.84      0.84      1146\n",
            "\n",
            "    accuracy                           0.87      2692\n",
            "   macro avg       0.87      0.86      0.87      2692\n",
            "weighted avg       0.87      0.87      0.87      2692\n",
            "\n"
          ]
        },
        {
          "output_type": "display_data",
          "data": {
            "text/plain": [
              "<Figure size 1500x400 with 4 Axes>"
            ],
            "image/png": "[encoded data removed]"
          },
          "metadata": {}
        }
      ]
    },
    {
      "cell_type": "markdown",
      "source": [
        "## 2. Apply Results to Test Data\n",
        "\n",
        "Predict for Test Data using XLNet Model and Save results to Dataframe"
      ],
      "metadata": {
        "id": "47yeyuganrpR"
      }
    },
    {
      "cell_type": "code",
      "source": [
        "predicted_sentiment, probabilities = predict_sentiment(model_xlnet, tokenizer_xlnet, data_test['text'].values.flatten())\n",
        "data_test['Sentiment (XLNet)'] = predicted_sentiment\n",
        "data_test['Negative (XLNet)'] = probabilities[:, 0]\n",
        "data_test['Positive (XLNet)'] = probabilities[:, 1]\n",
        "\n",
        "data_test.to_csv(path+'/data_output/xlnet_data_all.csv', index=False)\n",
        "data_test.head(5)"
      ],
      "metadata": {
        "id": "pBp_XtdmnsiP"
      },
      "execution_count": null,
      "outputs": []
    },
    {
      "cell_type": "markdown",
      "source": [
        "# J - 3) FinBERT"
      ],
      "metadata": {
        "id": "OPveLVPNn7T7"
      }
    },
    {
      "cell_type": "markdown",
      "source": [
        "FinBERT is a Bert-based large language model that adapts to the finance domain proposed by Huang et al. in [`FinBERT - A Large Language Model for Extracting Information from Financial Text`](https://papers.ssrn.com/sol3/papers.cfm?abstract_id=3910214). It was trained on a model fine-tuned on 10,000 manually annotated sentences from analyst reports of S&P 500 firms."
      ],
      "metadata": {
        "id": "-sIgt9s0cWcS"
      }
    },
    {
      "cell_type": "markdown",
      "source": [
        "## 1. Training Loop and Evaluation"
      ],
      "metadata": {
        "id": "A2WjilwudoCO"
      }
    },
    {
      "cell_type": "code",
      "source": [
        "from transformers import AutoModelForSequenceClassification, AutoTokenizer\n",
        "\n",
        "# Load the pre-trained tokenizer and model\n",
        "tokenizer_finbert = BertTokenizer.from_pretrained('yiyanghkust/finbert-tone')\n",
        "model_finbert = BertForSequenceClassification.from_pretrained('yiyanghkust/finbert-tone')\n",
        "\n",
        "model_name = 'FinBERT'\n",
        "\n",
        "# Train the model\n",
        "model_finbert, tokenizer_finbert, val_losses, training_loss_values = train_model(model_finbert, tokenizer_finbert, X_train, y_train, X_val, y_val, batch_size = 32, gradient_accumulation_steps = 2, learning_rate=1e-6, epochs=5, modelName=path+'/result/'+model_name)\n",
        "\n",
        "# Test the model\n",
        "y_true, y_pred, y_pred_prob = test_model(model_finbert, tokenizer_finbert, X_val, y_val)\n",
        "\n",
        "# Print the classification report\n",
        "# plot/ show evaluation\n",
        "show_evaluation_results(y_true, y_pred, y_pred_prob)\n",
        "\n",
        "show_validation_loss(val_losses, training_loss_values)"
      ],
      "metadata": {
        "id": "Q_ariPw_9wMB",
        "colab": {
          "base_uri": "https://localhost:8080/",
          "height": 1000,
          "referenced_widgets": [
            "9a58baeccf79468da50cac00274df370",
            "193b0f64fca94035a09b8458da907647",
            "a5db17a826e24911ad24918ebed8d94c",
            "05f96367280d49e69d75b911e8959dc7",
            "ba5b01d4787346afbdf1da768741f196",
            "8d964ce6ea4b47408098cc11557cb6ad",
            "0f826552c5c547e789639afd4668c5fe",
            "0fe4cf1a219b4eeeab4dcb6c4816a930",
            "99dea85881f14de1a47501a811c0e990",
            "a3c55856113242f3b83884175c9af551",
            "8c93dcb6c17746ee9b758d499ffd75dd",
            "2d5c5c5e4eae47efbdfd98988eb9ad16",
            "23437b312f954bb58064b121c3bbc0a5",
            "1fa1008b5d5f4cf68990b79289f6fcac",
            "1072bf3cfa8849909795790cbaceae39",
            "80f5ac10e37f4587bd075edd8335a930",
            "446d6e89541741559a75f0ffd16f9e36",
            "955d33e852c044999a831929f47e3e16",
            "b638e9b793574f8fbc081da285f674a0",
            "3b82a49a3c6644f984f8d66958955e2b",
            "3334ffdf458143b580f2c7ec62314055",
            "fcb5dbefc9944fe984d42f1c14d73cbb",
            "643219db7a44433c8669286422092f30",
            "af07ae2ca0684d5db97768f0aa4ae40c",
            "801cb846a0214052815d51395580986a",
            "2bb2d81ba9914136b40cad3b1efd1e03",
            "0d5978b59b6d406e92f3b7057cab0008",
            "bd44eca5b3b743c8a835a952851ace99",
            "0558d01fd69f48b6bc9555405150658b",
            "8a78ea7e81cf4dbd92d680a5c3e1d1e8",
            "3d414cfb97ed4d1bb07a222310a0e497",
            "f85272f0530a474dad68097326794fff",
            "683b0118baa9422eb6212e225a0622ed"
          ]
        },
        "outputId": "686ee4b9-6739-4a2d-ddbd-6deb224356e1"
      },
      "execution_count": null,
      "outputs": [
        {
          "output_type": "display_data",
          "data": {
            "text/plain": [
              "Downloading:   0%|          | 0.00/226k [00:00<?, ?B/s]"
            ],
            "application/vnd.jupyter.widget-view+json": {
              "version_major": 2,
              "version_minor": 0,
              "model_id": "9a58baeccf79468da50cac00274df370"
            }
          },
          "metadata": {}
        },
        {
          "output_type": "display_data",
          "data": {
            "text/plain": [
              "Downloading:   0%|          | 0.00/533 [00:00<?, ?B/s]"
            ],
            "application/vnd.jupyter.widget-view+json": {
              "version_major": 2,
              "version_minor": 0,
              "model_id": "2d5c5c5e4eae47efbdfd98988eb9ad16"
            }
          },
          "metadata": {}
        },
        {
          "output_type": "display_data",
          "data": {
            "text/plain": [
              "Downloading:   0%|          | 0.00/439M [00:00<?, ?B/s]"
            ],
            "application/vnd.jupyter.widget-view+json": {
              "version_major": 2,
              "version_minor": 0,
              "model_id": "643219db7a44433c8669286422092f30"
            }
          },
          "metadata": {}
        },
        {
          "output_type": "display_data",
          "data": {
            "text/plain": [
              "<IPython.core.display.HTML object>"
            ],
            "text/html": [
              "\n",
              "    <div>\n",
              "        <style>\n",
              "            /* Turns off some styling */\n",
              "            progress {\n",
              "                /* gets rid of default border in Firefox and Opera. */\n",
              "                border: none;\n",
              "                /* Needs to be in here for Safari polyfill so background images work as expected. */\n",
              "                background-size: auto;\n",
              "            }\n",
              "        </style>\n",
              "      \n",
              "      <progress value='840' max='840' style='width:300px; height:20px; vertical-align: middle;'></progress>\n",
              "      [840/840 11:20, Epoch 4/5]\n",
              "    </div>\n",
              "    <table border=\"1\" class=\"dataframe\">\n",
              "  <thead>\n",
              "    <tr style=\"text-align: left;\">\n",
              "      <th>Epoch</th>\n",
              "      <th>Training Loss</th>\n",
              "      <th>Validation Loss</th>\n",
              "      <th>Accuracy</th>\n",
              "      <th>F1</th>\n",
              "      <th>Precision</th>\n",
              "      <th>Recall</th>\n",
              "      <th>Runtime</th>\n",
              "      <th>Samples Per Second</th>\n",
              "    </tr>\n",
              "  </thead>\n",
              "  <tbody>\n",
              "    <tr>\n",
              "      <td>0</td>\n",
              "      <td>2.373600</td>\n",
              "      <td>2.263985</td>\n",
              "      <td>0.587667</td>\n",
              "      <td>0.445240</td>\n",
              "      <td>0.510855</td>\n",
              "      <td>0.394904</td>\n",
              "      <td>5.103800</td>\n",
              "      <td>527.445000</td>\n",
              "    </tr>\n",
              "    <tr>\n",
              "      <td>1</td>\n",
              "      <td>0.742900</td>\n",
              "      <td>0.725085</td>\n",
              "      <td>0.796434</td>\n",
              "      <td>0.529541</td>\n",
              "      <td>0.535113</td>\n",
              "      <td>0.525183</td>\n",
              "      <td>5.103200</td>\n",
              "      <td>527.510000</td>\n",
              "    </tr>\n",
              "    <tr>\n",
              "      <td>2</td>\n",
              "      <td>0.399900</td>\n",
              "      <td>0.406540</td>\n",
              "      <td>0.841753</td>\n",
              "      <td>0.836602</td>\n",
              "      <td>0.840953</td>\n",
              "      <td>0.833778</td>\n",
              "      <td>5.108000</td>\n",
              "      <td>527.019000</td>\n",
              "    </tr>\n",
              "    <tr>\n",
              "      <td>3</td>\n",
              "      <td>0.392300</td>\n",
              "      <td>0.371552</td>\n",
              "      <td>0.852155</td>\n",
              "      <td>0.846828</td>\n",
              "      <td>0.853269</td>\n",
              "      <td>0.843059</td>\n",
              "      <td>5.117300</td>\n",
              "      <td>526.060000</td>\n",
              "    </tr>\n",
              "    <tr>\n",
              "      <td>4</td>\n",
              "      <td>0.357600</td>\n",
              "      <td>0.365554</td>\n",
              "      <td>0.854383</td>\n",
              "      <td>0.849477</td>\n",
              "      <td>0.854607</td>\n",
              "      <td>0.846242</td>\n",
              "      <td>5.098400</td>\n",
              "      <td>528.010000</td>\n",
              "    </tr>\n",
              "  </tbody>\n",
              "</table><p>"
            ]
          },
          "metadata": {}
        },
        {
          "output_type": "stream",
          "name": "stderr",
          "text": [
            "/usr/local/lib/python3.9/dist-packages/sklearn/metrics/_classification.py:1344: UndefinedMetricWarning: Recall and F-score are ill-defined and being set to 0.0 in labels with no true samples. Use `zero_division` parameter to control this behavior.\n",
            "  _warn_prf(average, modifier, msg_start, len(result))\n",
            "/usr/local/lib/python3.9/dist-packages/sklearn/metrics/_classification.py:1344: UndefinedMetricWarning: Recall and F-score are ill-defined and being set to 0.0 in labels with no true samples. Use `zero_division` parameter to control this behavior.\n",
            "  _warn_prf(average, modifier, msg_start, len(result))\n"
          ]
        },
        {
          "output_type": "display_data",
          "data": {
            "text/plain": [
              "<IPython.core.display.HTML object>"
            ],
            "text/html": [
              "\n",
              "    <div>\n",
              "        <style>\n",
              "            /* Turns off some styling */\n",
              "            progress {\n",
              "                /* gets rid of default border in Firefox and Opera. */\n",
              "                border: none;\n",
              "                /* Needs to be in here for Safari polyfill so background images work as expected. */\n",
              "                background-size: auto;\n",
              "            }\n",
              "        </style>\n",
              "      \n",
              "      <progress value='674' max='337' style='width:300px; height:20px; vertical-align: middle;'></progress>\n",
              "      [337/337 00:12]\n",
              "    </div>\n",
              "    "
            ]
          },
          "metadata": {}
        },
        {
          "output_type": "stream",
          "name": "stdout",
          "text": [
            "Classification Report:\n",
            "              precision    recall  f1-score   support\n",
            "\n",
            "           0       0.85      0.90      0.88      1546\n",
            "           1       0.86      0.79      0.82      1146\n",
            "\n",
            "    accuracy                           0.85      2692\n",
            "   macro avg       0.85      0.85      0.85      2692\n",
            "weighted avg       0.85      0.85      0.85      2692\n",
            "\n"
          ]
        },
        {
          "output_type": "display_data",
          "data": {
            "text/plain": [
              "<Figure size 1500x400 with 4 Axes>"
            ],
            "image/png": "[encoded data removed]"
          },
          "metadata": {}
        }
      ]
    },
    {
      "cell_type": "markdown",
      "source": [
        "## 2. Apply Results to Test Data\n",
        "Predict for Test Data using FinBERT Model and Save results to Dataframe"
      ],
      "metadata": {
        "id": "rR8hKy4koUhd"
      }
    },
    {
      "cell_type": "code",
      "source": [
        "predicted_sentiment, probabilities = predict_sentiment(model_finbert, tokenizer_finbert, data_test['text'].values.flatten())\n",
        "data_test['Sentiment (FinBERT)'] = predicted_sentiment\n",
        "data_test['Negative (FinBERT)'] = probabilities[:, 0]\n",
        "data_test['Positive (FinBERT)'] = probabilities[:, 1]\n",
        "\n",
        "data_test.to_csv(path+'/data_output/finbert_data_all.csv', index=False)\n",
        "data_test.head(5)"
      ],
      "metadata": {
        "id": "L1pI8E89oWrd"
      },
      "execution_count": null,
      "outputs": []
    },
    {
      "cell_type": "markdown",
      "source": [
        "# K - 4) RoBERTa"
      ],
      "metadata": {
        "id": "9aOknvKGoaC3"
      }
    },
    {
      "cell_type": "markdown",
      "source": [
        "The RoBERTa model is a BERT-based model that was proposed in [`RoBERTa: A Robustly Optimized BERT Pretraining Approach`](https://arxiv.org/abs/1907.11692) by Yinhan Liu, Myle Ott, Naman Goyal, Jingfei Du, Mandar Joshi, Danqi Chen, Omer Levy, Mike Lewis, Luke Zettlemoyer, Veselin Stoyanov. It is based on Google’s BERT model released in 2018. It modifies key hyperparameters, removing the next-sentence pretraining objective and training with much larger mini-batches and learning rates."
      ],
      "metadata": {
        "id": "zDKoh_PFfUW2"
      }
    },
    {
      "cell_type": "markdown",
      "source": [
        "## 1. Training Loop and Evalutation\n",
        "\n",
        "To use a more powerful model change `roberta-base` to `roberta-large` in following code."
      ],
      "metadata": {
        "id": "ZOwElEXdHpmq"
      }
    },
    {
      "cell_type": "code",
      "source": [
        "from transformers import RobertaForSequenceClassification, RobertaTokenizer\n",
        "\n",
        "# Load the pre-trained tokenizer and model\n",
        "tokenizer_roberta = RobertaTokenizer.from_pretrained('roberta-base')\n",
        "model_roberta = RobertaForSequenceClassification.from_pretrained('roberta-base', num_labels=2)\n",
        "\n",
        "model_name = 'RoBERTa'\n",
        "\n",
        "# Train the model\n",
        "model_roberta, tokenizer_roberta, val_losses, training_loss_values = train_model(model_roberta, tokenizer_roberta, X_train, y_train, X_val, y_val, batch_size = 64, gradient_accumulation_steps = 2, learning_rate=1e-6, epochs=5, modelName=path+'/result/'+model_name)\n",
        "\n",
        "# Test the model\n",
        "y_true, y_pred, y_pred_prob = test_model(model_roberta, tokenizer_roberta, X_val, y_val)\n",
        "\n",
        "# Print the classification report\n",
        "# plot/ show evaluation\n",
        "show_evaluation_results(y_true, y_pred, y_pred_prob)\n",
        "\n",
        "show_validation_loss(val_losses, training_loss_values)"
      ],
      "metadata": {
        "id": "uFVCLo3o_A0e",
        "colab": {
          "base_uri": "https://localhost:8080/",
          "height": 1000
        },
        "outputId": "ffb67bec-00c8-49a4-8dcc-fd35fd795087"
      },
      "execution_count": null,
      "outputs": [
        {
          "output_type": "stream",
          "name": "stderr",
          "text": [
            "Some weights of the model checkpoint at roberta-base were not used when initializing RobertaForSequenceClassification: ['lm_head.bias', 'lm_head.dense.weight', 'lm_head.dense.bias', 'lm_head.layer_norm.weight', 'lm_head.layer_norm.bias', 'lm_head.decoder.weight', 'roberta.pooler.dense.weight', 'roberta.pooler.dense.bias']\n",
            "- This IS expected if you are initializing RobertaForSequenceClassification from the checkpoint of a model trained on another task or with another architecture (e.g. initializing a BertForSequenceClassification model from a BertForPreTraining model).\n",
            "- This IS NOT expected if you are initializing RobertaForSequenceClassification from the checkpoint of a model that you expect to be exactly identical (initializing a BertForSequenceClassification model from a BertForSequenceClassification model).\n",
            "Some weights of RobertaForSequenceClassification were not initialized from the model checkpoint at roberta-base and are newly initialized: ['classifier.dense.weight', 'classifier.dense.bias', 'classifier.out_proj.weight', 'classifier.out_proj.bias']\n",
            "You should probably TRAIN this model on a down-stream task to be able to use it for predictions and inference.\n"
          ]
        },
        {
          "output_type": "display_data",
          "data": {
            "text/plain": [
              "<IPython.core.display.HTML object>"
            ],
            "text/html": [
              "\n",
              "    <div>\n",
              "        <style>\n",
              "            /* Turns off some styling */\n",
              "            progress {\n",
              "                /* gets rid of default border in Firefox and Opera. */\n",
              "                border: none;\n",
              "                /* Needs to be in here for Safari polyfill so background images work as expected. */\n",
              "                background-size: auto;\n",
              "            }\n",
              "        </style>\n",
              "      \n",
              "      <progress value='420' max='420' style='width:300px; height:20px; vertical-align: middle;'></progress>\n",
              "      [420/420 11:13, Epoch 4/5]\n",
              "    </div>\n",
              "    <table border=\"1\" class=\"dataframe\">\n",
              "  <thead>\n",
              "    <tr style=\"text-align: left;\">\n",
              "      <th>Epoch</th>\n",
              "      <th>Training Loss</th>\n",
              "      <th>Validation Loss</th>\n",
              "      <th>Accuracy</th>\n",
              "      <th>F1</th>\n",
              "      <th>Precision</th>\n",
              "      <th>Recall</th>\n",
              "      <th>Runtime</th>\n",
              "      <th>Samples Per Second</th>\n",
              "    </tr>\n",
              "  </thead>\n",
              "  <tbody>\n",
              "    <tr>\n",
              "      <td>0</td>\n",
              "      <td>0.689700</td>\n",
              "      <td>0.684815</td>\n",
              "      <td>0.574294</td>\n",
              "      <td>0.364795</td>\n",
              "      <td>0.287147</td>\n",
              "      <td>0.500000</td>\n",
              "      <td>10.447200</td>\n",
              "      <td>257.678000</td>\n",
              "    </tr>\n",
              "    <tr>\n",
              "      <td>1</td>\n",
              "      <td>0.679900</td>\n",
              "      <td>0.681563</td>\n",
              "      <td>0.574294</td>\n",
              "      <td>0.364795</td>\n",
              "      <td>0.287147</td>\n",
              "      <td>0.500000</td>\n",
              "      <td>10.456900</td>\n",
              "      <td>257.437000</td>\n",
              "    </tr>\n",
              "    <tr>\n",
              "      <td>2</td>\n",
              "      <td>0.672900</td>\n",
              "      <td>0.672819</td>\n",
              "      <td>0.574294</td>\n",
              "      <td>0.364795</td>\n",
              "      <td>0.287147</td>\n",
              "      <td>0.500000</td>\n",
              "      <td>10.450500</td>\n",
              "      <td>257.596000</td>\n",
              "    </tr>\n",
              "    <tr>\n",
              "      <td>3</td>\n",
              "      <td>0.545200</td>\n",
              "      <td>0.456260</td>\n",
              "      <td>0.859955</td>\n",
              "      <td>0.851814</td>\n",
              "      <td>0.874572</td>\n",
              "      <td>0.843755</td>\n",
              "      <td>10.447400</td>\n",
              "      <td>257.672000</td>\n",
              "    </tr>\n",
              "    <tr>\n",
              "      <td>4</td>\n",
              "      <td>0.273600</td>\n",
              "      <td>0.291626</td>\n",
              "      <td>0.884844</td>\n",
              "      <td>0.882349</td>\n",
              "      <td>0.882019</td>\n",
              "      <td>0.882696</td>\n",
              "      <td>10.456200</td>\n",
              "      <td>257.455000</td>\n",
              "    </tr>\n",
              "  </tbody>\n",
              "</table><p>"
            ]
          },
          "metadata": {}
        },
        {
          "output_type": "stream",
          "name": "stderr",
          "text": [
            "/usr/local/lib/python3.9/dist-packages/sklearn/metrics/_classification.py:1344: UndefinedMetricWarning: Precision and F-score are ill-defined and being set to 0.0 in labels with no predicted samples. Use `zero_division` parameter to control this behavior.\n",
            "  _warn_prf(average, modifier, msg_start, len(result))\n",
            "/usr/local/lib/python3.9/dist-packages/sklearn/metrics/_classification.py:1344: UndefinedMetricWarning: Precision and F-score are ill-defined and being set to 0.0 in labels with no predicted samples. Use `zero_division` parameter to control this behavior.\n",
            "  _warn_prf(average, modifier, msg_start, len(result))\n",
            "/usr/local/lib/python3.9/dist-packages/sklearn/metrics/_classification.py:1344: UndefinedMetricWarning: Precision and F-score are ill-defined and being set to 0.0 in labels with no predicted samples. Use `zero_division` parameter to control this behavior.\n",
            "  _warn_prf(average, modifier, msg_start, len(result))\n"
          ]
        },
        {
          "output_type": "display_data",
          "data": {
            "text/plain": [
              "<IPython.core.display.HTML object>"
            ],
            "text/html": [
              "\n",
              "    <div>\n",
              "        <style>\n",
              "            /* Turns off some styling */\n",
              "            progress {\n",
              "                /* gets rid of default border in Firefox and Opera. */\n",
              "                border: none;\n",
              "                /* Needs to be in here for Safari polyfill so background images work as expected. */\n",
              "                background-size: auto;\n",
              "            }\n",
              "        </style>\n",
              "      \n",
              "      <progress value='674' max='337' style='width:300px; height:20px; vertical-align: middle;'></progress>\n",
              "      [337/337 00:24]\n",
              "    </div>\n",
              "    "
            ]
          },
          "metadata": {}
        },
        {
          "output_type": "stream",
          "name": "stdout",
          "text": [
            "Classification Report:\n",
            "              precision    recall  f1-score   support\n",
            "\n",
            "           0       0.90      0.90      0.90      1546\n",
            "           1       0.86      0.87      0.87      1146\n",
            "\n",
            "    accuracy                           0.88      2692\n",
            "   macro avg       0.88      0.88      0.88      2692\n",
            "weighted avg       0.88      0.88      0.88      2692\n",
            "\n"
          ]
        },
        {
          "output_type": "display_data",
          "data": {
            "text/plain": [
              "<Figure size 1500x400 with 4 Axes>"
            ],
            "image/png": "[encoded data removed]"
          },
          "metadata": {}
        }
      ]
    },
    {
      "cell_type": "markdown",
      "source": [
        "## 2. Apply Results to Test Data\n",
        "\n",
        "Predict for Test Data using Roberta Model and Save results to Dataframe"
      ],
      "metadata": {
        "id": "6Vnv-JheokMw"
      }
    },
    {
      "cell_type": "code",
      "source": [
        "predicted_sentiment, probabilities = predict_sentiment(model_roberta, tokenizer_finbert, data_test['text'].values.flatten())\n",
        "data_test['Sentiment (Roberta)'] = res[0]\n",
        "data_test['Negative (Roberta)'] = res[1][:, 0]\n",
        "data_test['Positive (Roberta)'] = res[1][:, 1]\n",
        "\n",
        "data_test.to_csv(path+'/data_output/roberta_data_all.csv', index=False)\n",
        "data_test.head(5)"
      ],
      "metadata": {
        "id": "0buOfX4U_sAP"
      },
      "execution_count": null,
      "outputs": []
    }
  ],
  "metadata": {
    "accelerator": "GPU",
    "colab": {
      "provenance": [],
      "toc_visible": true,
      "gpuClass": "premium"
    },
    "gpuClass": "premium",
    "kernelspec": {
      "display_name": "Python 3",
      "language": "python",
      "name": "python3"
    },
    "language_info": {
      "codemirror_mode": {
        "name": "ipython",
        "version": 3
      },
      "file_extension": ".py",
      "mimetype": "text/x-python",
      "name": "python",
      "nbconvert_exporter": "python",
      "pygments_lexer": "ipython3",
      "version": "3.7.3"
    },
    "widgets": {
      "application/vnd.jupyter.widget-state+json": {
        "9a58baeccf79468da50cac00274df370": {
          "model_module": "@jupyter-widgets/controls",
          "model_name": "HBoxModel",
          "model_module_version": "1.5.0",
          "state": {
            "_dom_classes": [],
            "_model_module": "@jupyter-widgets/controls",
            "_model_module_version": "1.5.0",
            "_model_name": "HBoxModel",
            "_view_count": null,
            "_view_module": "@jupyter-widgets/controls",
            "_view_module_version": "1.5.0",
            "_view_name": "HBoxView",
            "box_style": "",
            "children": [
              "IPY_MODEL_193b0f64fca94035a09b8458da907647",
              "IPY_MODEL_a5db17a826e24911ad24918ebed8d94c",
              "IPY_MODEL_05f96367280d49e69d75b911e8959dc7"
            ],
            "layout": "IPY_MODEL_ba5b01d4787346afbdf1da768741f196"
          }
        },
        "193b0f64fca94035a09b8458da907647": {
          "model_module": "@jupyter-widgets/controls",
          "model_name": "HTMLModel",
          "model_module_version": "1.5.0",
          "state": {
            "_dom_classes": [],
            "_model_module": "@jupyter-widgets/controls",
            "_model_module_version": "1.5.0",
            "_model_name": "HTMLModel",
            "_view_count": null,
            "_view_module": "@jupyter-widgets/controls",
            "_view_module_version": "1.5.0",
            "_view_name": "HTMLView",
            "description": "",
            "description_tooltip": null,
            "layout": "IPY_MODEL_8d964ce6ea4b47408098cc11557cb6ad",
            "placeholder": "​",
            "style": "IPY_MODEL_0f826552c5c547e789639afd4668c5fe",
            "value": "Downloading: 100%"
          }
        },
        "a5db17a826e24911ad24918ebed8d94c": {
          "model_module": "@jupyter-widgets/controls",
          "model_name": "FloatProgressModel",
          "model_module_version": "1.5.0",
          "state": {
            "_dom_classes": [],
            "_model_module": "@jupyter-widgets/controls",
            "_model_module_version": "1.5.0",
            "_model_name": "FloatProgressModel",
            "_view_count": null,
            "_view_module": "@jupyter-widgets/controls",
            "_view_module_version": "1.5.0",
            "_view_name": "ProgressView",
            "bar_style": "success",
            "description": "",
            "description_tooltip": null,
            "layout": "IPY_MODEL_0fe4cf1a219b4eeeab4dcb6c4816a930",
            "max": 226122,
            "min": 0,
            "orientation": "horizontal",
            "style": "IPY_MODEL_99dea85881f14de1a47501a811c0e990",
            "value": 226122
          }
        },
        "05f96367280d49e69d75b911e8959dc7": {
          "model_module": "@jupyter-widgets/controls",
          "model_name": "HTMLModel",
          "model_module_version": "1.5.0",
          "state": {
            "_dom_classes": [],
            "_model_module": "@jupyter-widgets/controls",
            "_model_module_version": "1.5.0",
            "_model_name": "HTMLModel",
            "_view_count": null,
            "_view_module": "@jupyter-widgets/controls",
            "_view_module_version": "1.5.0",
            "_view_name": "HTMLView",
            "description": "",
            "description_tooltip": null,
            "layout": "IPY_MODEL_a3c55856113242f3b83884175c9af551",
            "placeholder": "​",
            "style": "IPY_MODEL_8c93dcb6c17746ee9b758d499ffd75dd",
            "value": " 226k/226k [00:00&lt;00:00, 2.28MB/s]"
          }
        },
        "ba5b01d4787346afbdf1da768741f196": {
          "model_module": "@jupyter-widgets/base",
          "model_name": "LayoutModel",
          "model_module_version": "1.2.0",
          "state": {
            "_model_module": "@jupyter-widgets/base",
            "_model_module_version": "1.2.0",
            "_model_name": "LayoutModel",
            "_view_count": null,
            "_view_module": "@jupyter-widgets/base",
            "_view_module_version": "1.2.0",
            "_view_name": "LayoutView",
            "align_content": null,
            "align_items": null,
            "align_self": null,
            "border": null,
            "bottom": null,
            "display": null,
            "flex": null,
            "flex_flow": null,
            "grid_area": null,
            "grid_auto_columns": null,
            "grid_auto_flow": null,
            "grid_auto_rows": null,
            "grid_column": null,
            "grid_gap": null,
            "grid_row": null,
            "grid_template_areas": null,
            "grid_template_columns": null,
            "grid_template_rows": null,
            "height": null,
            "justify_content": null,
            "justify_items": null,
            "left": null,
            "margin": null,
            "max_height": null,
            "max_width": null,
            "min_height": null,
            "min_width": null,
            "object_fit": null,
            "object_position": null,
            "order": null,
            "overflow": null,
            "overflow_x": null,
            "overflow_y": null,
            "padding": null,
            "right": null,
            "top": null,
            "visibility": null,
            "width": null
          }
        },
        "8d964ce6ea4b47408098cc11557cb6ad": {
          "model_module": "@jupyter-widgets/base",
          "model_name": "LayoutModel",
          "model_module_version": "1.2.0",
          "state": {
            "_model_module": "@jupyter-widgets/base",
            "_model_module_version": "1.2.0",
            "_model_name": "LayoutModel",
            "_view_count": null,
            "_view_module": "@jupyter-widgets/base",
            "_view_module_version": "1.2.0",
            "_view_name": "LayoutView",
            "align_content": null,
            "align_items": null,
            "align_self": null,
            "border": null,
            "bottom": null,
            "display": null,
            "flex": null,
            "flex_flow": null,
            "grid_area": null,
            "grid_auto_columns": null,
            "grid_auto_flow": null,
            "grid_auto_rows": null,
            "grid_column": null,
            "grid_gap": null,
            "grid_row": null,
            "grid_template_areas": null,
            "grid_template_columns": null,
            "grid_template_rows": null,
            "height": null,
            "justify_content": null,
            "justify_items": null,
            "left": null,
            "margin": null,
            "max_height": null,
            "max_width": null,
            "min_height": null,
            "min_width": null,
            "object_fit": null,
            "object_position": null,
            "order": null,
            "overflow": null,
            "overflow_x": null,
            "overflow_y": null,
            "padding": null,
            "right": null,
            "top": null,
            "visibility": null,
            "width": null
          }
        },
        "0f826552c5c547e789639afd4668c5fe": {
          "model_module": "@jupyter-widgets/controls",
          "model_name": "DescriptionStyleModel",
          "model_module_version": "1.5.0",
          "state": {
            "_model_module": "@jupyter-widgets/controls",
            "_model_module_version": "1.5.0",
            "_model_name": "DescriptionStyleModel",
            "_view_count": null,
            "_view_module": "@jupyter-widgets/base",
            "_view_module_version": "1.2.0",
            "_view_name": "StyleView",
            "description_width": ""
          }
        },
        "0fe4cf1a219b4eeeab4dcb6c4816a930": {
          "model_module": "@jupyter-widgets/base",
          "model_name": "LayoutModel",
          "model_module_version": "1.2.0",
          "state": {
            "_model_module": "@jupyter-widgets/base",
            "_model_module_version": "1.2.0",
            "_model_name": "LayoutModel",
            "_view_count": null,
            "_view_module": "@jupyter-widgets/base",
            "_view_module_version": "1.2.0",
            "_view_name": "LayoutView",
            "align_content": null,
            "align_items": null,
            "align_self": null,
            "border": null,
            "bottom": null,
            "display": null,
            "flex": null,
            "flex_flow": null,
            "grid_area": null,
            "grid_auto_columns": null,
            "grid_auto_flow": null,
            "grid_auto_rows": null,
            "grid_column": null,
            "grid_gap": null,
            "grid_row": null,
            "grid_template_areas": null,
            "grid_template_columns": null,
            "grid_template_rows": null,
            "height": null,
            "justify_content": null,
            "justify_items": null,
            "left": null,
            "margin": null,
            "max_height": null,
            "max_width": null,
            "min_height": null,
            "min_width": null,
            "object_fit": null,
            "object_position": null,
            "order": null,
            "overflow": null,
            "overflow_x": null,
            "overflow_y": null,
            "padding": null,
            "right": null,
            "top": null,
            "visibility": null,
            "width": null
          }
        },
        "99dea85881f14de1a47501a811c0e990": {
          "model_module": "@jupyter-widgets/controls",
          "model_name": "ProgressStyleModel",
          "model_module_version": "1.5.0",
          "state": {
            "_model_module": "@jupyter-widgets/controls",
            "_model_module_version": "1.5.0",
            "_model_name": "ProgressStyleModel",
            "_view_count": null,
            "_view_module": "@jupyter-widgets/base",
            "_view_module_version": "1.2.0",
            "_view_name": "StyleView",
            "bar_color": null,
            "description_width": ""
          }
        },
        "a3c55856113242f3b83884175c9af551": {
          "model_module": "@jupyter-widgets/base",
          "model_name": "LayoutModel",
          "model_module_version": "1.2.0",
          "state": {
            "_model_module": "@jupyter-widgets/base",
            "_model_module_version": "1.2.0",
            "_model_name": "LayoutModel",
            "_view_count": null,
            "_view_module": "@jupyter-widgets/base",
            "_view_module_version": "1.2.0",
            "_view_name": "LayoutView",
            "align_content": null,
            "align_items": null,
            "align_self": null,
            "border": null,
            "bottom": null,
            "display": null,
            "flex": null,
            "flex_flow": null,
            "grid_area": null,
            "grid_auto_columns": null,
            "grid_auto_flow": null,
            "grid_auto_rows": null,
            "grid_column": null,
            "grid_gap": null,
            "grid_row": null,
            "grid_template_areas": null,
            "grid_template_columns": null,
            "grid_template_rows": null,
            "height": null,
            "justify_content": null,
            "justify_items": null,
            "left": null,
            "margin": null,
            "max_height": null,
            "max_width": null,
            "min_height": null,
            "min_width": null,
            "object_fit": null,
            "object_position": null,
            "order": null,
            "overflow": null,
            "overflow_x": null,
            "overflow_y": null,
            "padding": null,
            "right": null,
            "top": null,
            "visibility": null,
            "width": null
          }
        },
        "8c93dcb6c17746ee9b758d499ffd75dd": {
          "model_module": "@jupyter-widgets/controls",
          "model_name": "DescriptionStyleModel",
          "model_module_version": "1.5.0",
          "state": {
            "_model_module": "@jupyter-widgets/controls",
            "_model_module_version": "1.5.0",
            "_model_name": "DescriptionStyleModel",
            "_view_count": null,
            "_view_module": "@jupyter-widgets/base",
            "_view_module_version": "1.2.0",
            "_view_name": "StyleView",
            "description_width": ""
          }
        },
        "2d5c5c5e4eae47efbdfd98988eb9ad16": {
          "model_module": "@jupyter-widgets/controls",
          "model_name": "HBoxModel",
          "model_module_version": "1.5.0",
          "state": {
            "_dom_classes": [],
            "_model_module": "@jupyter-widgets/controls",
            "_model_module_version": "1.5.0",
            "_model_name": "HBoxModel",
            "_view_count": null,
            "_view_module": "@jupyter-widgets/controls",
            "_view_module_version": "1.5.0",
            "_view_name": "HBoxView",
            "box_style": "",
            "children": [
              "IPY_MODEL_23437b312f954bb58064b121c3bbc0a5",
              "IPY_MODEL_1fa1008b5d5f4cf68990b79289f6fcac",
              "IPY_MODEL_1072bf3cfa8849909795790cbaceae39"
            ],
            "layout": "IPY_MODEL_80f5ac10e37f4587bd075edd8335a930"
          }
        },
        "23437b312f954bb58064b121c3bbc0a5": {
          "model_module": "@jupyter-widgets/controls",
          "model_name": "HTMLModel",
          "model_module_version": "1.5.0",
          "state": {
            "_dom_classes": [],
            "_model_module": "@jupyter-widgets/controls",
            "_model_module_version": "1.5.0",
            "_model_name": "HTMLModel",
            "_view_count": null,
            "_view_module": "@jupyter-widgets/controls",
            "_view_module_version": "1.5.0",
            "_view_name": "HTMLView",
            "description": "",
            "description_tooltip": null,
            "layout": "IPY_MODEL_446d6e89541741559a75f0ffd16f9e36",
            "placeholder": "​",
            "style": "IPY_MODEL_955d33e852c044999a831929f47e3e16",
            "value": "Downloading: 100%"
          }
        },
        "1fa1008b5d5f4cf68990b79289f6fcac": {
          "model_module": "@jupyter-widgets/controls",
          "model_name": "FloatProgressModel",
          "model_module_version": "1.5.0",
          "state": {
            "_dom_classes": [],
            "_model_module": "@jupyter-widgets/controls",
            "_model_module_version": "1.5.0",
            "_model_name": "FloatProgressModel",
            "_view_count": null,
            "_view_module": "@jupyter-widgets/controls",
            "_view_module_version": "1.5.0",
            "_view_name": "ProgressView",
            "bar_style": "success",
            "description": "",
            "description_tooltip": null,
            "layout": "IPY_MODEL_b638e9b793574f8fbc081da285f674a0",
            "max": 533,
            "min": 0,
            "orientation": "horizontal",
            "style": "IPY_MODEL_3b82a49a3c6644f984f8d66958955e2b",
            "value": 533
          }
        },
        "1072bf3cfa8849909795790cbaceae39": {
          "model_module": "@jupyter-widgets/controls",
          "model_name": "HTMLModel",
          "model_module_version": "1.5.0",
          "state": {
            "_dom_classes": [],
            "_model_module": "@jupyter-widgets/controls",
            "_model_module_version": "1.5.0",
            "_model_name": "HTMLModel",
            "_view_count": null,
            "_view_module": "@jupyter-widgets/controls",
            "_view_module_version": "1.5.0",
            "_view_name": "HTMLView",
            "description": "",
            "description_tooltip": null,
            "layout": "IPY_MODEL_3334ffdf458143b580f2c7ec62314055",
            "placeholder": "​",
            "style": "IPY_MODEL_fcb5dbefc9944fe984d42f1c14d73cbb",
            "value": " 533/533 [00:00&lt;00:00, 44.1kB/s]"
          }
        },
        "80f5ac10e37f4587bd075edd8335a930": {
          "model_module": "@jupyter-widgets/base",
          "model_name": "LayoutModel",
          "model_module_version": "1.2.0",
          "state": {
            "_model_module": "@jupyter-widgets/base",
            "_model_module_version": "1.2.0",
            "_model_name": "LayoutModel",
            "_view_count": null,
            "_view_module": "@jupyter-widgets/base",
            "_view_module_version": "1.2.0",
            "_view_name": "LayoutView",
            "align_content": null,
            "align_items": null,
            "align_self": null,
            "border": null,
            "bottom": null,
            "display": null,
            "flex": null,
            "flex_flow": null,
            "grid_area": null,
            "grid_auto_columns": null,
            "grid_auto_flow": null,
            "grid_auto_rows": null,
            "grid_column": null,
            "grid_gap": null,
            "grid_row": null,
            "grid_template_areas": null,
            "grid_template_columns": null,
            "grid_template_rows": null,
            "height": null,
            "justify_content": null,
            "justify_items": null,
            "left": null,
            "margin": null,
            "max_height": null,
            "max_width": null,
            "min_height": null,
            "min_width": null,
            "object_fit": null,
            "object_position": null,
            "order": null,
            "overflow": null,
            "overflow_x": null,
            "overflow_y": null,
            "padding": null,
            "right": null,
            "top": null,
            "visibility": null,
            "width": null
          }
        },
        "446d6e89541741559a75f0ffd16f9e36": {
          "model_module": "@jupyter-widgets/base",
          "model_name": "LayoutModel",
          "model_module_version": "1.2.0",
          "state": {
            "_model_module": "@jupyter-widgets/base",
            "_model_module_version": "1.2.0",
            "_model_name": "LayoutModel",
            "_view_count": null,
            "_view_module": "@jupyter-widgets/base",
            "_view_module_version": "1.2.0",
            "_view_name": "LayoutView",
            "align_content": null,
            "align_items": null,
            "align_self": null,
            "border": null,
            "bottom": null,
            "display": null,
            "flex": null,
            "flex_flow": null,
            "grid_area": null,
            "grid_auto_columns": null,
            "grid_auto_flow": null,
            "grid_auto_rows": null,
            "grid_column": null,
            "grid_gap": null,
            "grid_row": null,
            "grid_template_areas": null,
            "grid_template_columns": null,
            "grid_template_rows": null,
            "height": null,
            "justify_content": null,
            "justify_items": null,
            "left": null,
            "margin": null,
            "max_height": null,
            "max_width": null,
            "min_height": null,
            "min_width": null,
            "object_fit": null,
            "object_position": null,
            "order": null,
            "overflow": null,
            "overflow_x": null,
            "overflow_y": null,
            "padding": null,
            "right": null,
            "top": null,
            "visibility": null,
            "width": null
          }
        },
        "955d33e852c044999a831929f47e3e16": {
          "model_module": "@jupyter-widgets/controls",
          "model_name": "DescriptionStyleModel",
          "model_module_version": "1.5.0",
          "state": {
            "_model_module": "@jupyter-widgets/controls",
            "_model_module_version": "1.5.0",
            "_model_name": "DescriptionStyleModel",
            "_view_count": null,
            "_view_module": "@jupyter-widgets/base",
            "_view_module_version": "1.2.0",
            "_view_name": "StyleView",
            "description_width": ""
          }
        },
        "b638e9b793574f8fbc081da285f674a0": {
          "model_module": "@jupyter-widgets/base",
          "model_name": "LayoutModel",
          "model_module_version": "1.2.0",
          "state": {
            "_model_module": "@jupyter-widgets/base",
            "_model_module_version": "1.2.0",
            "_model_name": "LayoutModel",
            "_view_count": null,
            "_view_module": "@jupyter-widgets/base",
            "_view_module_version": "1.2.0",
            "_view_name": "LayoutView",
            "align_content": null,
            "align_items": null,
            "align_self": null,
            "border": null,
            "bottom": null,
            "display": null,
            "flex": null,
            "flex_flow": null,
            "grid_area": null,
            "grid_auto_columns": null,
            "grid_auto_flow": null,
            "grid_auto_rows": null,
            "grid_column": null,
            "grid_gap": null,
            "grid_row": null,
            "grid_template_areas": null,
            "grid_template_columns": null,
            "grid_template_rows": null,
            "height": null,
            "justify_content": null,
            "justify_items": null,
            "left": null,
            "margin": null,
            "max_height": null,
            "max_width": null,
            "min_height": null,
            "min_width": null,
            "object_fit": null,
            "object_position": null,
            "order": null,
            "overflow": null,
            "overflow_x": null,
            "overflow_y": null,
            "padding": null,
            "right": null,
            "top": null,
            "visibility": null,
            "width": null
          }
        },
        "3b82a49a3c6644f984f8d66958955e2b": {
          "model_module": "@jupyter-widgets/controls",
          "model_name": "ProgressStyleModel",
          "model_module_version": "1.5.0",
          "state": {
            "_model_module": "@jupyter-widgets/controls",
            "_model_module_version": "1.5.0",
            "_model_name": "ProgressStyleModel",
            "_view_count": null,
            "_view_module": "@jupyter-widgets/base",
            "_view_module_version": "1.2.0",
            "_view_name": "StyleView",
            "bar_color": null,
            "description_width": ""
          }
        },
        "3334ffdf458143b580f2c7ec62314055": {
          "model_module": "@jupyter-widgets/base",
          "model_name": "LayoutModel",
          "model_module_version": "1.2.0",
          "state": {
            "_model_module": "@jupyter-widgets/base",
            "_model_module_version": "1.2.0",
            "_model_name": "LayoutModel",
            "_view_count": null,
            "_view_module": "@jupyter-widgets/base",
            "_view_module_version": "1.2.0",
            "_view_name": "LayoutView",
            "align_content": null,
            "align_items": null,
            "align_self": null,
            "border": null,
            "bottom": null,
            "display": null,
            "flex": null,
            "flex_flow": null,
            "grid_area": null,
            "grid_auto_columns": null,
            "grid_auto_flow": null,
            "grid_auto_rows": null,
            "grid_column": null,
            "grid_gap": null,
            "grid_row": null,
            "grid_template_areas": null,
            "grid_template_columns": null,
            "grid_template_rows": null,
            "height": null,
            "justify_content": null,
            "justify_items": null,
            "left": null,
            "margin": null,
            "max_height": null,
            "max_width": null,
            "min_height": null,
            "min_width": null,
            "object_fit": null,
            "object_position": null,
            "order": null,
            "overflow": null,
            "overflow_x": null,
            "overflow_y": null,
            "padding": null,
            "right": null,
            "top": null,
            "visibility": null,
            "width": null
          }
        },
        "fcb5dbefc9944fe984d42f1c14d73cbb": {
          "model_module": "@jupyter-widgets/controls",
          "model_name": "DescriptionStyleModel",
          "model_module_version": "1.5.0",
          "state": {
            "_model_module": "@jupyter-widgets/controls",
            "_model_module_version": "1.5.0",
            "_model_name": "DescriptionStyleModel",
            "_view_count": null,
            "_view_module": "@jupyter-widgets/base",
            "_view_module_version": "1.2.0",
            "_view_name": "StyleView",
            "description_width": ""
          }
        },
        "643219db7a44433c8669286422092f30": {
          "model_module": "@jupyter-widgets/controls",
          "model_name": "HBoxModel",
          "model_module_version": "1.5.0",
          "state": {
            "_dom_classes": [],
            "_model_module": "@jupyter-widgets/controls",
            "_model_module_version": "1.5.0",
            "_model_name": "HBoxModel",
            "_view_count": null,
            "_view_module": "@jupyter-widgets/controls",
            "_view_module_version": "1.5.0",
            "_view_name": "HBoxView",
            "box_style": "",
            "children": [
              "IPY_MODEL_af07ae2ca0684d5db97768f0aa4ae40c",
              "IPY_MODEL_801cb846a0214052815d51395580986a",
              "IPY_MODEL_2bb2d81ba9914136b40cad3b1efd1e03"
            ],
            "layout": "IPY_MODEL_0d5978b59b6d406e92f3b7057cab0008"
          }
        },
        "af07ae2ca0684d5db97768f0aa4ae40c": {
          "model_module": "@jupyter-widgets/controls",
          "model_name": "HTMLModel",
          "model_module_version": "1.5.0",
          "state": {
            "_dom_classes": [],
            "_model_module": "@jupyter-widgets/controls",
            "_model_module_version": "1.5.0",
            "_model_name": "HTMLModel",
            "_view_count": null,
            "_view_module": "@jupyter-widgets/controls",
            "_view_module_version": "1.5.0",
            "_view_name": "HTMLView",
            "description": "",
            "description_tooltip": null,
            "layout": "IPY_MODEL_bd44eca5b3b743c8a835a952851ace99",
            "placeholder": "​",
            "style": "IPY_MODEL_0558d01fd69f48b6bc9555405150658b",
            "value": "Downloading: 100%"
          }
        },
        "801cb846a0214052815d51395580986a": {
          "model_module": "@jupyter-widgets/controls",
          "model_name": "FloatProgressModel",
          "model_module_version": "1.5.0",
          "state": {
            "_dom_classes": [],
            "_model_module": "@jupyter-widgets/controls",
            "_model_module_version": "1.5.0",
            "_model_name": "FloatProgressModel",
            "_view_count": null,
            "_view_module": "@jupyter-widgets/controls",
            "_view_module_version": "1.5.0",
            "_view_name": "ProgressView",
            "bar_style": "success",
            "description": "",
            "description_tooltip": null,
            "layout": "IPY_MODEL_8a78ea7e81cf4dbd92d680a5c3e1d1e8",
            "max": 439101405,
            "min": 0,
            "orientation": "horizontal",
            "style": "IPY_MODEL_3d414cfb97ed4d1bb07a222310a0e497",
            "value": 439101405
          }
        },
        "2bb2d81ba9914136b40cad3b1efd1e03": {
          "model_module": "@jupyter-widgets/controls",
          "model_name": "HTMLModel",
          "model_module_version": "1.5.0",
          "state": {
            "_dom_classes": [],
            "_model_module": "@jupyter-widgets/controls",
            "_model_module_version": "1.5.0",
            "_model_name": "HTMLModel",
            "_view_count": null,
            "_view_module": "@jupyter-widgets/controls",
            "_view_module_version": "1.5.0",
            "_view_name": "HTMLView",
            "description": "",
            "description_tooltip": null,
            "layout": "IPY_MODEL_f85272f0530a474dad68097326794fff",
            "placeholder": "​",
            "style": "IPY_MODEL_683b0118baa9422eb6212e225a0622ed",
            "value": " 439M/439M [00:05&lt;00:00, 81.7MB/s]"
          }
        },
        "0d5978b59b6d406e92f3b7057cab0008": {
          "model_module": "@jupyter-widgets/base",
          "model_name": "LayoutModel",
          "model_module_version": "1.2.0",
          "state": {
            "_model_module": "@jupyter-widgets/base",
            "_model_module_version": "1.2.0",
            "_model_name": "LayoutModel",
            "_view_count": null,
            "_view_module": "@jupyter-widgets/base",
            "_view_module_version": "1.2.0",
            "_view_name": "LayoutView",
            "align_content": null,
            "align_items": null,
            "align_self": null,
            "border": null,
            "bottom": null,
            "display": null,
            "flex": null,
            "flex_flow": null,
            "grid_area": null,
            "grid_auto_columns": null,
            "grid_auto_flow": null,
            "grid_auto_rows": null,
            "grid_column": null,
            "grid_gap": null,
            "grid_row": null,
            "grid_template_areas": null,
            "grid_template_columns": null,
            "grid_template_rows": null,
            "height": null,
            "justify_content": null,
            "justify_items": null,
            "left": null,
            "margin": null,
            "max_height": null,
            "max_width": null,
            "min_height": null,
            "min_width": null,
            "object_fit": null,
            "object_position": null,
            "order": null,
            "overflow": null,
            "overflow_x": null,
            "overflow_y": null,
            "padding": null,
            "right": null,
            "top": null,
            "visibility": null,
            "width": null
          }
        },
        "bd44eca5b3b743c8a835a952851ace99": {
          "model_module": "@jupyter-widgets/base",
          "model_name": "LayoutModel",
          "model_module_version": "1.2.0",
          "state": {
            "_model_module": "@jupyter-widgets/base",
            "_model_module_version": "1.2.0",
            "_model_name": "LayoutModel",
            "_view_count": null,
            "_view_module": "@jupyter-widgets/base",
            "_view_module_version": "1.2.0",
            "_view_name": "LayoutView",
            "align_content": null,
            "align_items": null,
            "align_self": null,
            "border": null,
            "bottom": null,
            "display": null,
            "flex": null,
            "flex_flow": null,
            "grid_area": null,
            "grid_auto_columns": null,
            "grid_auto_flow": null,
            "grid_auto_rows": null,
            "grid_column": null,
            "grid_gap": null,
            "grid_row": null,
            "grid_template_areas": null,
            "grid_template_columns": null,
            "grid_template_rows": null,
            "height": null,
            "justify_content": null,
            "justify_items": null,
            "left": null,
            "margin": null,
            "max_height": null,
            "max_width": null,
            "min_height": null,
            "min_width": null,
            "object_fit": null,
            "object_position": null,
            "order": null,
            "overflow": null,
            "overflow_x": null,
            "overflow_y": null,
            "padding": null,
            "right": null,
            "top": null,
            "visibility": null,
            "width": null
          }
        },
        "0558d01fd69f48b6bc9555405150658b": {
          "model_module": "@jupyter-widgets/controls",
          "model_name": "DescriptionStyleModel",
          "model_module_version": "1.5.0",
          "state": {
            "_model_module": "@jupyter-widgets/controls",
            "_model_module_version": "1.5.0",
            "_model_name": "DescriptionStyleModel",
            "_view_count": null,
            "_view_module": "@jupyter-widgets/base",
            "_view_module_version": "1.2.0",
            "_view_name": "StyleView",
            "description_width": ""
          }
        },
        "8a78ea7e81cf4dbd92d680a5c3e1d1e8": {
          "model_module": "@jupyter-widgets/base",
          "model_name": "LayoutModel",
          "model_module_version": "1.2.0",
          "state": {
            "_model_module": "@jupyter-widgets/base",
            "_model_module_version": "1.2.0",
            "_model_name": "LayoutModel",
            "_view_count": null,
            "_view_module": "@jupyter-widgets/base",
            "_view_module_version": "1.2.0",
            "_view_name": "LayoutView",
            "align_content": null,
            "align_items": null,
            "align_self": null,
            "border": null,
            "bottom": null,
            "display": null,
            "flex": null,
            "flex_flow": null,
            "grid_area": null,
            "grid_auto_columns": null,
            "grid_auto_flow": null,
            "grid_auto_rows": null,
            "grid_column": null,
            "grid_gap": null,
            "grid_row": null,
            "grid_template_areas": null,
            "grid_template_columns": null,
            "grid_template_rows": null,
            "height": null,
            "justify_content": null,
            "justify_items": null,
            "left": null,
            "margin": null,
            "max_height": null,
            "max_width": null,
            "min_height": null,
            "min_width": null,
            "object_fit": null,
            "object_position": null,
            "order": null,
            "overflow": null,
            "overflow_x": null,
            "overflow_y": null,
            "padding": null,
            "right": null,
            "top": null,
            "visibility": null,
            "width": null
          }
        },
        "3d414cfb97ed4d1bb07a222310a0e497": {
          "model_module": "@jupyter-widgets/controls",
          "model_name": "ProgressStyleModel",
          "model_module_version": "1.5.0",
          "state": {
            "_model_module": "@jupyter-widgets/controls",
            "_model_module_version": "1.5.0",
            "_model_name": "ProgressStyleModel",
            "_view_count": null,
            "_view_module": "@jupyter-widgets/base",
            "_view_module_version": "1.2.0",
            "_view_name": "StyleView",
            "bar_color": null,
            "description_width": ""
          }
        },
        "f85272f0530a474dad68097326794fff": {
          "model_module": "@jupyter-widgets/base",
          "model_name": "LayoutModel",
          "model_module_version": "1.2.0",
          "state": {
            "_model_module": "@jupyter-widgets/base",
            "_model_module_version": "1.2.0",
            "_model_name": "LayoutModel",
            "_view_count": null,
            "_view_module": "@jupyter-widgets/base",
            "_view_module_version": "1.2.0",
            "_view_name": "LayoutView",
            "align_content": null,
            "align_items": null,
            "align_self": null,
            "border": null,
            "bottom": null,
            "display": null,
            "flex": null,
            "flex_flow": null,
            "grid_area": null,
            "grid_auto_columns": null,
            "grid_auto_flow": null,
            "grid_auto_rows": null,
            "grid_column": null,
            "grid_gap": null,
            "grid_row": null,
            "grid_template_areas": null,
            "grid_template_columns": null,
            "grid_template_rows": null,
            "height": null,
            "justify_content": null,
            "justify_items": null,
            "left": null,
            "margin": null,
            "max_height": null,
            "max_width": null,
            "min_height": null,
            "min_width": null,
            "object_fit": null,
            "object_position": null,
            "order": null,
            "overflow": null,
            "overflow_x": null,
            "overflow_y": null,
            "padding": null,
            "right": null,
            "top": null,
            "visibility": null,
            "width": null
          }
        },
        "683b0118baa9422eb6212e225a0622ed": {
          "model_module": "@jupyter-widgets/controls",
          "model_name": "DescriptionStyleModel",
          "model_module_version": "1.5.0",
          "state": {
            "_model_module": "@jupyter-widgets/controls",
            "_model_module_version": "1.5.0",
            "_model_name": "DescriptionStyleModel",
            "_view_count": null,
            "_view_module": "@jupyter-widgets/base",
            "_view_module_version": "1.2.0",
            "_view_name": "StyleView",
            "description_width": ""
          }
        }
      }
    }
  },
  "nbformat": 4,
  "nbformat_minor": 0
}